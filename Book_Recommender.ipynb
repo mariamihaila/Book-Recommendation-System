{
  "nbformat": 4,
  "nbformat_minor": 0,
  "metadata": {
    "colab": {
      "name": "Book Recommender.ipynb",
      "provenance": []
    },
    "kernelspec": {
      "name": "python3",
      "display_name": "Python 3"
    },
    "language_info": {
      "name": "python"
    },
    "accelerator": "GPU"
  },
  "cells": [
    {
      "cell_type": "markdown",
      "metadata": {
        "id": "B-3rHrdl0fdn"
      },
      "source": [
        "## Load the goodreads data as a panda series dataframe\n"
      ]
    },
    {
      "cell_type": "code",
      "metadata": {
        "id": "77xjTNKe0a3E",
        "colab": {
          "base_uri": "https://localhost:8080/",
          "height": 103
        },
        "outputId": "c226dc13-591a-4e71-b067-7ae743fdfc5c"
      },
      "source": [
        "import pandas as pd\n",
        "from rake_nltk import Rake\n",
        "import nltk\n",
        "from nltk.corpus import words\n",
        "from nltk.corpus import stopwords\n",
        "\n",
        "import numpy as np\n",
        "from sklearn.metrics.pairwise import cosine_similarity\n",
        "from sklearn.feature_extraction.text import CountVectorizer\n",
        "import warnings\n",
        "\n",
        "from textblob import TextBlob\n",
        "from textblob import Word\n",
        "\n",
        "import seaborn as sns\n",
        "\n",
        "import re\n",
        "warnings.filterwarnings(\"ignore\")\n",
        "books = pd.DataFrame(columns = pd.read_csv('/Users/mariamihaila/Downloads/goodreads/book1000k-1100k.csv', index_col = 'Id').columns)\n",
        "books"
      ],
      "execution_count": 5,
      "outputs": [
        {
          "output_type": "execute_result",
          "data": {
            "text/plain": [
              "Empty DataFrame\n",
              "Columns: [Name, Authors, ISBN, Rating, PublishYear, PublishMonth, PublishDay, Publisher, RatingDist5, RatingDist4, RatingDist3, RatingDist2, RatingDist1, RatingDistTotal, CountsOfReview, Language, pagesNumber, Description, Count of text reviews]\n",
              "Index: []"
            ],
            "text/html": [
              "<div>\n",
              "<style scoped>\n",
              "    .dataframe tbody tr th:only-of-type {\n",
              "        vertical-align: middle;\n",
              "    }\n",
              "\n",
              "    .dataframe tbody tr th {\n",
              "        vertical-align: top;\n",
              "    }\n",
              "\n",
              "    .dataframe thead th {\n",
              "        text-align: right;\n",
              "    }\n",
              "</style>\n",
              "<table border=\"1\" class=\"dataframe\">\n",
              "  <thead>\n",
              "    <tr style=\"text-align: right;\">\n",
              "      <th></th>\n",
              "      <th>Name</th>\n",
              "      <th>Authors</th>\n",
              "      <th>ISBN</th>\n",
              "      <th>Rating</th>\n",
              "      <th>PublishYear</th>\n",
              "      <th>PublishMonth</th>\n",
              "      <th>PublishDay</th>\n",
              "      <th>Publisher</th>\n",
              "      <th>RatingDist5</th>\n",
              "      <th>RatingDist4</th>\n",
              "      <th>RatingDist3</th>\n",
              "      <th>RatingDist2</th>\n",
              "      <th>RatingDist1</th>\n",
              "      <th>RatingDistTotal</th>\n",
              "      <th>CountsOfReview</th>\n",
              "      <th>Language</th>\n",
              "      <th>pagesNumber</th>\n",
              "      <th>Description</th>\n",
              "      <th>Count of text reviews</th>\n",
              "    </tr>\n",
              "  </thead>\n",
              "  <tbody>\n",
              "  </tbody>\n",
              "</table>\n",
              "</div>"
            ]
          },
          "metadata": {},
          "execution_count": 5
        }
      ]
    },
    {
      "cell_type": "code",
      "metadata": {
        "id": "fGTHp9cc0d2r",
        "colab": {
          "base_uri": "https://localhost:8080/"
        },
        "outputId": "6eae6189-5b9d-4340-9b67-63e5b55cb039"
      },
      "source": [
        "import os\n",
        "for dirname, _, filenames in os.walk('/Users/mariamihaila/Downloads/goodreads/'):\n",
        "    for filename in filenames:\n",
        "        if \"_\" not in filename:\n",
        "            books = pd.concat([books, pd.read_csv(os.path.join(dirname, filename), index_col = 'Id')])\n",
        "            print(os.path.join(dirname, filename), 'OK')\n"
      ],
      "execution_count": 2,
      "outputs": [
        {
          "output_type": "stream",
          "name": "stdout",
          "text": [
            "/Users/mariamihaila/Downloads/goodreads/book1900k-2000k.csv OK\n",
            "/Users/mariamihaila/Downloads/goodreads/book1600k-1700k.csv OK\n",
            "/Users/mariamihaila/Downloads/goodreads/book700k-800k.csv OK\n",
            "/Users/mariamihaila/Downloads/goodreads/book600k-700k.csv OK\n",
            "/Users/mariamihaila/Downloads/goodreads/book1000k-1100k.csv OK\n",
            "/Users/mariamihaila/Downloads/goodreads/book100k-200k.csv OK\n",
            "/Users/mariamihaila/Downloads/goodreads/book1300k-1400k.csv OK\n",
            "/Users/mariamihaila/Downloads/goodreads/book1500k-1600k.csv OK\n",
            "/Users/mariamihaila/Downloads/goodreads/book1200k-1300k.csv OK\n",
            "/Users/mariamihaila/Downloads/goodreads/book800k-900k.csv OK\n",
            "/Users/mariamihaila/Downloads/goodreads/book2000k-3000k.csv OK\n",
            "/Users/mariamihaila/Downloads/goodreads/book400k-500k.csv OK\n",
            "/Users/mariamihaila/Downloads/goodreads/book1700k-1800k.csv OK\n",
            "/Users/mariamihaila/Downloads/goodreads/book1800k-1900k.csv OK\n",
            "/Users/mariamihaila/Downloads/goodreads/book200k-300k.csv OK\n",
            "/Users/mariamihaila/Downloads/goodreads/book500k-600k.csv OK\n",
            "/Users/mariamihaila/Downloads/goodreads/book300k-400k.csv OK\n",
            "/Users/mariamihaila/Downloads/goodreads/book900k-1000k.csv OK\n",
            "/Users/mariamihaila/Downloads/goodreads/book1100k-1200k.csv OK\n",
            "/Users/mariamihaila/Downloads/goodreads/book3000k-4000k.csv OK\n",
            "/Users/mariamihaila/Downloads/goodreads/book4000k-5000k.csv OK\n",
            "/Users/mariamihaila/Downloads/goodreads/book1-100k.csv OK\n",
            "/Users/mariamihaila/Downloads/goodreads/book1400k-1500k.csv OK\n"
          ]
        }
      ]
    },
    {
      "cell_type": "markdown",
      "metadata": {
        "id": "1UTv5Z4RInPe"
      },
      "source": [
        "### Exploratory Data Analysis\n"
      ]
    },
    {
      "cell_type": "code",
      "metadata": {
        "colab": {
          "base_uri": "https://localhost:8080/",
          "height": 598
        },
        "id": "rhU_ANcJ4Uuk",
        "outputId": "d5647fc7-2929-456d-e09d-569d3422e56a"
      },
      "source": [
        "books.head()"
      ],
      "execution_count": 3,
      "outputs": [
        {
          "output_type": "execute_result",
          "data": {
            "text/plain": [
              "                                                      Name  \\\n",
              "1900511                                         Barbarossa   \n",
              "1900512  Collector's Guide to German World War II: Comb...   \n",
              "1900514                               Images of Barbarossa   \n",
              "1900520        Romania After 2000: Five New Romanian Plays   \n",
              "1900521           Global Foreigners: An Anthology of Plays   \n",
              "\n",
              "                        Authors        ISBN  Rating PublishYear PublishMonth  \\\n",
              "1900511      Christopher Ailsby  1840138009     3.0        2007            4   \n",
              "1900512      Christopher Ailsby  0781802253     0.0        1994            7   \n",
              "1900514      Christopher Ailsby  0711028257     3.5        2001            1   \n",
              "1900520  Daniel Charles Gerould  0595436560     4.0        2007            9   \n",
              "1900521        Saviana Stănescu  1905422423     4.6        2006           12   \n",
              "\n",
              "        PublishDay                                    Publisher RatingDist5  \\\n",
              "1900511          1                               New Line Books         5:0   \n",
              "1900512          1                             Hippocrene Books         5:0   \n",
              "1900514         25                                Ian Allan Ltd         5:0   \n",
              "1900520          1  Martin E. Segal Theatre Center Publications         5:1   \n",
              "1900521          7                                Seagull Books         5:4   \n",
              "\n",
              "        RatingDist4 RatingDist3 RatingDist2 RatingDist1 RatingDistTotal  \\\n",
              "1900511         4:0         3:1         2:0         1:0         total:1   \n",
              "1900512         4:0         3:0         2:0         1:0         total:0   \n",
              "1900514         4:5         3:2         2:1         1:0         total:8   \n",
              "1900520         4:4         3:1         2:0         1:0         total:6   \n",
              "1900521         4:0         3:1         2:0         1:0         total:5   \n",
              "\n",
              "        CountsOfReview Language pagesNumber  \\\n",
              "1900511              0      NaN         NaN   \n",
              "1900512              0      NaN         NaN   \n",
              "1900514              0      NaN         NaN   \n",
              "1900520              0      NaN         NaN   \n",
              "1900521              0      NaN         NaN   \n",
              "\n",
              "                                               Description  \\\n",
              "1900511  On 22 June 1941, Adolf Hitler launched Operati...   \n",
              "1900512                                                NaN   \n",
              "1900514  On 22 June 1941, Adolf Hitler launched Operati...   \n",
              "1900520  The first anthology of new Romanian Drama publ...   \n",
              "1900521  In Waxing West, Daniella, newly arrived in the...   \n",
              "\n",
              "        Count of text reviews  PagesNumber  \n",
              "1900511                   NaN        192.0  \n",
              "1900512                   NaN        160.0  \n",
              "1900514                   NaN        256.0  \n",
              "1900520                   NaN        226.0  \n",
              "1900521                   NaN        320.0  "
            ],
            "text/html": [
              "<div>\n",
              "<style scoped>\n",
              "    .dataframe tbody tr th:only-of-type {\n",
              "        vertical-align: middle;\n",
              "    }\n",
              "\n",
              "    .dataframe tbody tr th {\n",
              "        vertical-align: top;\n",
              "    }\n",
              "\n",
              "    .dataframe thead th {\n",
              "        text-align: right;\n",
              "    }\n",
              "</style>\n",
              "<table border=\"1\" class=\"dataframe\">\n",
              "  <thead>\n",
              "    <tr style=\"text-align: right;\">\n",
              "      <th></th>\n",
              "      <th>Name</th>\n",
              "      <th>Authors</th>\n",
              "      <th>ISBN</th>\n",
              "      <th>Rating</th>\n",
              "      <th>PublishYear</th>\n",
              "      <th>PublishMonth</th>\n",
              "      <th>PublishDay</th>\n",
              "      <th>Publisher</th>\n",
              "      <th>RatingDist5</th>\n",
              "      <th>RatingDist4</th>\n",
              "      <th>RatingDist3</th>\n",
              "      <th>RatingDist2</th>\n",
              "      <th>RatingDist1</th>\n",
              "      <th>RatingDistTotal</th>\n",
              "      <th>CountsOfReview</th>\n",
              "      <th>Language</th>\n",
              "      <th>pagesNumber</th>\n",
              "      <th>Description</th>\n",
              "      <th>Count of text reviews</th>\n",
              "      <th>PagesNumber</th>\n",
              "    </tr>\n",
              "  </thead>\n",
              "  <tbody>\n",
              "    <tr>\n",
              "      <th>1900511</th>\n",
              "      <td>Barbarossa</td>\n",
              "      <td>Christopher Ailsby</td>\n",
              "      <td>1840138009</td>\n",
              "      <td>3.0</td>\n",
              "      <td>2007</td>\n",
              "      <td>4</td>\n",
              "      <td>1</td>\n",
              "      <td>New Line Books</td>\n",
              "      <td>5:0</td>\n",
              "      <td>4:0</td>\n",
              "      <td>3:1</td>\n",
              "      <td>2:0</td>\n",
              "      <td>1:0</td>\n",
              "      <td>total:1</td>\n",
              "      <td>0</td>\n",
              "      <td>NaN</td>\n",
              "      <td>NaN</td>\n",
              "      <td>On 22 June 1941, Adolf Hitler launched Operati...</td>\n",
              "      <td>NaN</td>\n",
              "      <td>192.0</td>\n",
              "    </tr>\n",
              "    <tr>\n",
              "      <th>1900512</th>\n",
              "      <td>Collector's Guide to German World War II: Comb...</td>\n",
              "      <td>Christopher Ailsby</td>\n",
              "      <td>0781802253</td>\n",
              "      <td>0.0</td>\n",
              "      <td>1994</td>\n",
              "      <td>7</td>\n",
              "      <td>1</td>\n",
              "      <td>Hippocrene Books</td>\n",
              "      <td>5:0</td>\n",
              "      <td>4:0</td>\n",
              "      <td>3:0</td>\n",
              "      <td>2:0</td>\n",
              "      <td>1:0</td>\n",
              "      <td>total:0</td>\n",
              "      <td>0</td>\n",
              "      <td>NaN</td>\n",
              "      <td>NaN</td>\n",
              "      <td>NaN</td>\n",
              "      <td>NaN</td>\n",
              "      <td>160.0</td>\n",
              "    </tr>\n",
              "    <tr>\n",
              "      <th>1900514</th>\n",
              "      <td>Images of Barbarossa</td>\n",
              "      <td>Christopher Ailsby</td>\n",
              "      <td>0711028257</td>\n",
              "      <td>3.5</td>\n",
              "      <td>2001</td>\n",
              "      <td>1</td>\n",
              "      <td>25</td>\n",
              "      <td>Ian Allan Ltd</td>\n",
              "      <td>5:0</td>\n",
              "      <td>4:5</td>\n",
              "      <td>3:2</td>\n",
              "      <td>2:1</td>\n",
              "      <td>1:0</td>\n",
              "      <td>total:8</td>\n",
              "      <td>0</td>\n",
              "      <td>NaN</td>\n",
              "      <td>NaN</td>\n",
              "      <td>On 22 June 1941, Adolf Hitler launched Operati...</td>\n",
              "      <td>NaN</td>\n",
              "      <td>256.0</td>\n",
              "    </tr>\n",
              "    <tr>\n",
              "      <th>1900520</th>\n",
              "      <td>Romania After 2000: Five New Romanian Plays</td>\n",
              "      <td>Daniel Charles Gerould</td>\n",
              "      <td>0595436560</td>\n",
              "      <td>4.0</td>\n",
              "      <td>2007</td>\n",
              "      <td>9</td>\n",
              "      <td>1</td>\n",
              "      <td>Martin E. Segal Theatre Center Publications</td>\n",
              "      <td>5:1</td>\n",
              "      <td>4:4</td>\n",
              "      <td>3:1</td>\n",
              "      <td>2:0</td>\n",
              "      <td>1:0</td>\n",
              "      <td>total:6</td>\n",
              "      <td>0</td>\n",
              "      <td>NaN</td>\n",
              "      <td>NaN</td>\n",
              "      <td>The first anthology of new Romanian Drama publ...</td>\n",
              "      <td>NaN</td>\n",
              "      <td>226.0</td>\n",
              "    </tr>\n",
              "    <tr>\n",
              "      <th>1900521</th>\n",
              "      <td>Global Foreigners: An Anthology of Plays</td>\n",
              "      <td>Saviana Stănescu</td>\n",
              "      <td>1905422423</td>\n",
              "      <td>4.6</td>\n",
              "      <td>2006</td>\n",
              "      <td>12</td>\n",
              "      <td>7</td>\n",
              "      <td>Seagull Books</td>\n",
              "      <td>5:4</td>\n",
              "      <td>4:0</td>\n",
              "      <td>3:1</td>\n",
              "      <td>2:0</td>\n",
              "      <td>1:0</td>\n",
              "      <td>total:5</td>\n",
              "      <td>0</td>\n",
              "      <td>NaN</td>\n",
              "      <td>NaN</td>\n",
              "      <td>In Waxing West, Daniella, newly arrived in the...</td>\n",
              "      <td>NaN</td>\n",
              "      <td>320.0</td>\n",
              "    </tr>\n",
              "  </tbody>\n",
              "</table>\n",
              "</div>"
            ]
          },
          "metadata": {},
          "execution_count": 3
        }
      ]
    },
    {
      "cell_type": "code",
      "metadata": {
        "id": "R5sPuHrY5AMt"
      },
      "source": [
        "books.sort_index(inplace = True)"
      ],
      "execution_count": 4,
      "outputs": []
    },
    {
      "cell_type": "code",
      "metadata": {
        "colab": {
          "base_uri": "https://localhost:8080/"
        },
        "id": "zqQmbQgP4enS",
        "outputId": "dd1fbd3f-9fa4-49ca-b8c7-1ef1214a3b9f"
      },
      "source": [
        "books.info()"
      ],
      "execution_count": 5,
      "outputs": [
        {
          "output_type": "stream",
          "name": "stdout",
          "text": [
            "<class 'pandas.core.frame.DataFrame'>\n",
            "Int64Index: 1850310 entries, 1 to 4846451\n",
            "Data columns (total 20 columns):\n",
            " #   Column                 Dtype  \n",
            "---  ------                 -----  \n",
            " 0   Name                   object \n",
            " 1   Authors                object \n",
            " 2   ISBN                   object \n",
            " 3   Rating                 float64\n",
            " 4   PublishYear            object \n",
            " 5   PublishMonth           object \n",
            " 6   PublishDay             object \n",
            " 7   Publisher              object \n",
            " 8   RatingDist5            object \n",
            " 9   RatingDist4            object \n",
            " 10  RatingDist3            object \n",
            " 11  RatingDist2            object \n",
            " 12  RatingDist1            object \n",
            " 13  RatingDistTotal        object \n",
            " 14  CountsOfReview         object \n",
            " 15  Language               object \n",
            " 16  pagesNumber            object \n",
            " 17  Description            object \n",
            " 18  Count of text reviews  object \n",
            " 19  PagesNumber            float64\n",
            "dtypes: float64(2), object(18)\n",
            "memory usage: 296.5+ MB\n"
          ]
        }
      ]
    },
    {
      "cell_type": "markdown",
      "metadata": {
        "id": "nn1EC4VN4xZ2"
      },
      "source": [
        "How many unique book title are there? \n",
        "\n",
        "\n",
        ">  Answer: 1636235\n",
        "\n",
        "\n"
      ]
    },
    {
      "cell_type": "code",
      "metadata": {
        "colab": {
          "base_uri": "https://localhost:8080/"
        },
        "id": "miN_l4oB4shq",
        "outputId": "38ac3687-4b91-4ec6-e04e-37d45623845a"
      },
      "source": [
        "books['Name'].nunique()"
      ],
      "execution_count": 6,
      "outputs": [
        {
          "output_type": "execute_result",
          "data": {
            "text/plain": [
              "1636235"
            ]
          },
          "metadata": {},
          "execution_count": 6
        }
      ]
    },
    {
      "cell_type": "markdown",
      "metadata": {
        "id": "fSY6c1mV5KKD"
      },
      "source": [
        "How many books are in the dataset? \n",
        "\n",
        "\n",
        "> Answer: 1850310\n",
        "\n",
        "This means that some of the books are probably duplicates of eachother, possibly different editions. Let's remove all the title duplicates. \n",
        "\n"
      ]
    },
    {
      "cell_type": "code",
      "metadata": {
        "colab": {
          "base_uri": "https://localhost:8080/"
        },
        "id": "OYke6NeW5Gy3",
        "outputId": "d73d6028-2157-485f-cc89-9127a5bb52d0"
      },
      "source": [
        "len(books['Name'])"
      ],
      "execution_count": 7,
      "outputs": [
        {
          "output_type": "execute_result",
          "data": {
            "text/plain": [
              "1850310"
            ]
          },
          "metadata": {},
          "execution_count": 7
        }
      ]
    },
    {
      "cell_type": "markdown",
      "metadata": {
        "id": "DRgICs9dOQoC"
      },
      "source": [
        "## Removing duplicate books from the dataset\n",
        "\n",
        "Problems I ran into: \n",
        "Two columns of the data frame - Authors and Publisher - contain lists, an 'unhashable type.' To get around this problem, make sure to specify that you are dropping duplicates from the 'Name' column only by setting the subset argument to 'Name'"
      ]
    },
    {
      "cell_type": "code",
      "metadata": {
        "id": "09_HHGouLGKG"
      },
      "source": [
        "books.sort_index(inplace = True)\n"
      ],
      "execution_count": 8,
      "outputs": []
    },
    {
      "cell_type": "code",
      "metadata": {
        "id": "o673yonAMzO2"
      },
      "source": [
        "# extract duplicate rows\n",
        "books.loc[books.Name.duplicated(), :]\n",
        "# drop the duplicate books from the data set\n",
        "books.drop_duplicates(subset = ['Name'], inplace = True)"
      ],
      "execution_count": 9,
      "outputs": []
    },
    {
      "cell_type": "markdown",
      "metadata": {
        "id": "nMdX40lIOzcI"
      },
      "source": [
        "Make sure the duplicate drop was succesful: "
      ]
    },
    {
      "cell_type": "code",
      "metadata": {
        "colab": {
          "base_uri": "https://localhost:8080/"
        },
        "id": "PHscMg85MCNU",
        "outputId": "629101a6-fe02-4d83-dddf-dbc99290e0e5"
      },
      "source": [
        "(books.Name.duplicated()).sum()"
      ],
      "execution_count": 10,
      "outputs": [
        {
          "output_type": "execute_result",
          "data": {
            "text/plain": [
              "0"
            ]
          },
          "metadata": {},
          "execution_count": 10
        }
      ]
    },
    {
      "cell_type": "code",
      "metadata": {
        "colab": {
          "base_uri": "https://localhost:8080/"
        },
        "id": "P0Wsi6_uNqXg",
        "outputId": "79453e00-2f45-4016-cd69-c5173e72efe7"
      },
      "source": [
        "len(books['Name'])"
      ],
      "execution_count": 11,
      "outputs": [
        {
          "output_type": "execute_result",
          "data": {
            "text/plain": [
              "1636235"
            ]
          },
          "metadata": {},
          "execution_count": 11
        }
      ]
    },
    {
      "cell_type": "markdown",
      "metadata": {
        "id": "oeFT_vA2JOs8"
      },
      "source": [
        "#### Null values\n",
        "Check for null values. We see that there are quite a few entries with data missing. For the sake of accurate reccomendation, I will remove the 679122 books that are missing a description. "
      ]
    },
    {
      "cell_type": "code",
      "metadata": {
        "colab": {
          "base_uri": "https://localhost:8080/"
        },
        "id": "aT_xlxSII4Lq",
        "outputId": "1ac8aba4-e67e-4adc-8e49-ab1c8502a8a0"
      },
      "source": [
        "books.isnull().sum()"
      ],
      "execution_count": 12,
      "outputs": [
        {
          "output_type": "execute_result",
          "data": {
            "text/plain": [
              "Name                           0\n",
              "Authors                        0\n",
              "ISBN                        5013\n",
              "Rating                         0\n",
              "PublishYear                    0\n",
              "PublishMonth                   0\n",
              "PublishDay                     0\n",
              "Publisher                  16634\n",
              "RatingDist5                    0\n",
              "RatingDist4                    0\n",
              "RatingDist3                    0\n",
              "RatingDist2                    0\n",
              "RatingDist1                    0\n",
              "RatingDistTotal                0\n",
              "CountsOfReview                 0\n",
              "Language                 1425579\n",
              "pagesNumber               881824\n",
              "Description               638645\n",
              "Count of text reviews    1282821\n",
              "PagesNumber               754411\n",
              "dtype: int64"
            ]
          },
          "metadata": {},
          "execution_count": 12
        }
      ]
    },
    {
      "cell_type": "code",
      "metadata": {
        "colab": {
          "base_uri": "https://localhost:8080/",
          "height": 0
        },
        "id": "dDnPJrYfO8gy",
        "outputId": "d23769da-bcb5-4ee5-a6c3-bdae88c56977"
      },
      "source": [
        "books[books['Description'].isnull()].head()"
      ],
      "execution_count": 13,
      "outputs": [
        {
          "output_type": "execute_result",
          "data": {
            "text/plain": [
              "                                                Name       Authors  \\\n",
              "1  Harry Potter and the Half-Blood Prince (Harry ...  J.K. Rowling   \n",
              "2  Harry Potter and the Order of the Phoenix (Har...  J.K. Rowling   \n",
              "3  Harry Potter and the Sorcerer's Stone (Harry P...  J.K. Rowling   \n",
              "4  Harry Potter and the Chamber of Secrets (Harry...  J.K. Rowling   \n",
              "5  Harry Potter and the Prisoner of Azkaban (Harr...  J.K. Rowling   \n",
              "\n",
              "         ISBN  Rating PublishYear PublishMonth PublishDay        Publisher  \\\n",
              "1         NaN    4.57        2006           16          9  Scholastic Inc.   \n",
              "2  0439358078    4.50        2004            1          9  Scholastic Inc.   \n",
              "3         NaN    4.47        2003            1         11   Scholastic Inc   \n",
              "4  0439554896    4.42        2003            1         11       Scholastic   \n",
              "5  043965548X    4.57        2004            1          5  Scholastic Inc.   \n",
              "\n",
              "  RatingDist5 RatingDist4 RatingDist3 RatingDist2 RatingDist1 RatingDistTotal  \\\n",
              "1   5:1546466    4:556485    3:159960     2:25317      1:9896   total:2298124   \n",
              "2   5:1493113    4:604283    3:211781     2:37005     1:12455   total:2358637   \n",
              "3   5:4268227   4:1513191    3:567458    2:130310    1:108202   total:6587388   \n",
              "4   5:1504505    4:706082    3:288821     2:49353     1:11896   total:2560657   \n",
              "5   5:1749958    4:630534    3:194848     2:24849     1:10128   total:2610317   \n",
              "\n",
              "  CountsOfReview Language pagesNumber Description Count of text reviews  \\\n",
              "1          28062      eng         652         NaN                   NaN   \n",
              "2          29770      eng         870         NaN                   NaN   \n",
              "3          75911      eng         309         NaN                   NaN   \n",
              "4            244      eng         352         NaN                   NaN   \n",
              "5          37093      eng         435         NaN                   NaN   \n",
              "\n",
              "   PagesNumber  \n",
              "1          NaN  \n",
              "2          NaN  \n",
              "3          NaN  \n",
              "4          NaN  \n",
              "5          NaN  "
            ],
            "text/html": [
              "<div>\n",
              "<style scoped>\n",
              "    .dataframe tbody tr th:only-of-type {\n",
              "        vertical-align: middle;\n",
              "    }\n",
              "\n",
              "    .dataframe tbody tr th {\n",
              "        vertical-align: top;\n",
              "    }\n",
              "\n",
              "    .dataframe thead th {\n",
              "        text-align: right;\n",
              "    }\n",
              "</style>\n",
              "<table border=\"1\" class=\"dataframe\">\n",
              "  <thead>\n",
              "    <tr style=\"text-align: right;\">\n",
              "      <th></th>\n",
              "      <th>Name</th>\n",
              "      <th>Authors</th>\n",
              "      <th>ISBN</th>\n",
              "      <th>Rating</th>\n",
              "      <th>PublishYear</th>\n",
              "      <th>PublishMonth</th>\n",
              "      <th>PublishDay</th>\n",
              "      <th>Publisher</th>\n",
              "      <th>RatingDist5</th>\n",
              "      <th>RatingDist4</th>\n",
              "      <th>RatingDist3</th>\n",
              "      <th>RatingDist2</th>\n",
              "      <th>RatingDist1</th>\n",
              "      <th>RatingDistTotal</th>\n",
              "      <th>CountsOfReview</th>\n",
              "      <th>Language</th>\n",
              "      <th>pagesNumber</th>\n",
              "      <th>Description</th>\n",
              "      <th>Count of text reviews</th>\n",
              "      <th>PagesNumber</th>\n",
              "    </tr>\n",
              "  </thead>\n",
              "  <tbody>\n",
              "    <tr>\n",
              "      <th>1</th>\n",
              "      <td>Harry Potter and the Half-Blood Prince (Harry ...</td>\n",
              "      <td>J.K. Rowling</td>\n",
              "      <td>NaN</td>\n",
              "      <td>4.57</td>\n",
              "      <td>2006</td>\n",
              "      <td>16</td>\n",
              "      <td>9</td>\n",
              "      <td>Scholastic Inc.</td>\n",
              "      <td>5:1546466</td>\n",
              "      <td>4:556485</td>\n",
              "      <td>3:159960</td>\n",
              "      <td>2:25317</td>\n",
              "      <td>1:9896</td>\n",
              "      <td>total:2298124</td>\n",
              "      <td>28062</td>\n",
              "      <td>eng</td>\n",
              "      <td>652</td>\n",
              "      <td>NaN</td>\n",
              "      <td>NaN</td>\n",
              "      <td>NaN</td>\n",
              "    </tr>\n",
              "    <tr>\n",
              "      <th>2</th>\n",
              "      <td>Harry Potter and the Order of the Phoenix (Har...</td>\n",
              "      <td>J.K. Rowling</td>\n",
              "      <td>0439358078</td>\n",
              "      <td>4.50</td>\n",
              "      <td>2004</td>\n",
              "      <td>1</td>\n",
              "      <td>9</td>\n",
              "      <td>Scholastic Inc.</td>\n",
              "      <td>5:1493113</td>\n",
              "      <td>4:604283</td>\n",
              "      <td>3:211781</td>\n",
              "      <td>2:37005</td>\n",
              "      <td>1:12455</td>\n",
              "      <td>total:2358637</td>\n",
              "      <td>29770</td>\n",
              "      <td>eng</td>\n",
              "      <td>870</td>\n",
              "      <td>NaN</td>\n",
              "      <td>NaN</td>\n",
              "      <td>NaN</td>\n",
              "    </tr>\n",
              "    <tr>\n",
              "      <th>3</th>\n",
              "      <td>Harry Potter and the Sorcerer's Stone (Harry P...</td>\n",
              "      <td>J.K. Rowling</td>\n",
              "      <td>NaN</td>\n",
              "      <td>4.47</td>\n",
              "      <td>2003</td>\n",
              "      <td>1</td>\n",
              "      <td>11</td>\n",
              "      <td>Scholastic Inc</td>\n",
              "      <td>5:4268227</td>\n",
              "      <td>4:1513191</td>\n",
              "      <td>3:567458</td>\n",
              "      <td>2:130310</td>\n",
              "      <td>1:108202</td>\n",
              "      <td>total:6587388</td>\n",
              "      <td>75911</td>\n",
              "      <td>eng</td>\n",
              "      <td>309</td>\n",
              "      <td>NaN</td>\n",
              "      <td>NaN</td>\n",
              "      <td>NaN</td>\n",
              "    </tr>\n",
              "    <tr>\n",
              "      <th>4</th>\n",
              "      <td>Harry Potter and the Chamber of Secrets (Harry...</td>\n",
              "      <td>J.K. Rowling</td>\n",
              "      <td>0439554896</td>\n",
              "      <td>4.42</td>\n",
              "      <td>2003</td>\n",
              "      <td>1</td>\n",
              "      <td>11</td>\n",
              "      <td>Scholastic</td>\n",
              "      <td>5:1504505</td>\n",
              "      <td>4:706082</td>\n",
              "      <td>3:288821</td>\n",
              "      <td>2:49353</td>\n",
              "      <td>1:11896</td>\n",
              "      <td>total:2560657</td>\n",
              "      <td>244</td>\n",
              "      <td>eng</td>\n",
              "      <td>352</td>\n",
              "      <td>NaN</td>\n",
              "      <td>NaN</td>\n",
              "      <td>NaN</td>\n",
              "    </tr>\n",
              "    <tr>\n",
              "      <th>5</th>\n",
              "      <td>Harry Potter and the Prisoner of Azkaban (Harr...</td>\n",
              "      <td>J.K. Rowling</td>\n",
              "      <td>043965548X</td>\n",
              "      <td>4.57</td>\n",
              "      <td>2004</td>\n",
              "      <td>1</td>\n",
              "      <td>5</td>\n",
              "      <td>Scholastic Inc.</td>\n",
              "      <td>5:1749958</td>\n",
              "      <td>4:630534</td>\n",
              "      <td>3:194848</td>\n",
              "      <td>2:24849</td>\n",
              "      <td>1:10128</td>\n",
              "      <td>total:2610317</td>\n",
              "      <td>37093</td>\n",
              "      <td>eng</td>\n",
              "      <td>435</td>\n",
              "      <td>NaN</td>\n",
              "      <td>NaN</td>\n",
              "      <td>NaN</td>\n",
              "    </tr>\n",
              "  </tbody>\n",
              "</table>\n",
              "</div>"
            ]
          },
          "metadata": {},
          "execution_count": 13
        }
      ]
    },
    {
      "cell_type": "code",
      "metadata": {
        "id": "Y0vXtlAqPTjG"
      },
      "source": [
        "books.dropna(subset = ['Description'], inplace = True)"
      ],
      "execution_count": 14,
      "outputs": []
    },
    {
      "cell_type": "code",
      "metadata": {
        "colab": {
          "base_uri": "https://localhost:8080/"
        },
        "id": "Vw0aeY2DPeLs",
        "outputId": "8ca170e4-0eb0-468b-e6db-4524a9374d64"
      },
      "source": [
        "# check to see if succesful\n",
        "books.Description.isnull().sum()"
      ],
      "execution_count": 15,
      "outputs": [
        {
          "output_type": "execute_result",
          "data": {
            "text/plain": [
              "0"
            ]
          },
          "metadata": {},
          "execution_count": 15
        }
      ]
    },
    {
      "cell_type": "markdown",
      "metadata": {
        "id": "UxMFS-o459El"
      },
      "source": [
        "### Data preprocessing\n",
        "\n",
        "using regex and nltk\n",
        "- convert all text to lowercase \n",
        "- remove white space from description\n",
        "- remove punctuation from description\n",
        "- remove stop words from description\n",
        "- lemmatize words in description (convert all words to their root)\n",
        "\n",
        "TIPS: make a copy of the dataframe because you WILL inevitably mess up with regex and have to rerun everything. \n"
      ]
    },
    {
      "cell_type": "code",
      "metadata": {
        "id": "KmksZEEwREoc"
      },
      "source": [
        "# make a copy of the dataframe for when I inevitably will mess up\n",
        "df = pd.Series()\n",
        "df['Description'] = books['Description']"
      ],
      "execution_count": 16,
      "outputs": []
    },
    {
      "cell_type": "code",
      "metadata": {
        "id": "WIZInzmcqhpK"
      },
      "source": [
        "# remove punctuation\n",
        "df['Description'] = df['Description'].str.replace('[^\\w\\s]','')"
      ],
      "execution_count": 17,
      "outputs": []
    },
    {
      "cell_type": "code",
      "metadata": {
        "id": "Or8VDLflSbD0"
      },
      "source": [
        "punctuation_removed_test = df['Description'][600001]"
      ],
      "execution_count": 18,
      "outputs": []
    },
    {
      "cell_type": "code",
      "metadata": {
        "id": "aGT0VFZOT_9U"
      },
      "source": [
        "# remove stop words. \n",
        "stop = stopwords.words('english')\n",
        "df['Description'] = df['Description'].astype(str).apply(lambda x: \" \".join(x for x in x.split() if x not in stop))\n"
      ],
      "execution_count": 19,
      "outputs": []
    },
    {
      "cell_type": "code",
      "metadata": {
        "colab": {
          "base_uri": "https://localhost:8080/"
        },
        "id": "cCladVtH4gB_",
        "outputId": "11afc799-c290-48a5-b4bc-ce008c4e7e3e"
      },
      "source": [
        "stopwords_removed_test = df['Description'][600001]\n",
        "print(\"o.g: \", books['Description'][600001])\n",
        "print(\"stopwords_removed_test: \", stopwords_removed_test)"
      ],
      "execution_count": 20,
      "outputs": [
        {
          "output_type": "stream",
          "name": "stdout",
          "text": [
            "o.g:  At the age of fifteen, Jennifer Rothschild confronted two unshakable realities: Blindness is inevitable ... and God is enough. Now this popular author, speaker, and recording artist offers poignant lessons that illuminate a path to freedom and fulfillment. With warmth, humor, and insight, Jennifer shares the guiding principles she walks by -- and shows you how to walk forward by faith into God's marvelous light\n",
            "stopwords_removed_test:  At age fifteen Jennifer Rothschild confronted two unshakable realities Blindness inevitable God enough Now popular author speaker recording artist offers poignant lessons illuminate path freedom fulfillment With warmth humor insight Jennifer shares guiding principles walks shows walk forward faith Gods marvelous light\n"
          ]
        }
      ]
    },
    {
      "cell_type": "code",
      "metadata": {
        "id": "sRBoKIRwUUjO"
      },
      "source": [
        "# convert text to lowercase\n",
        "df['Description'] = df['Description'].astype(str).str.lower() "
      ],
      "execution_count": 21,
      "outputs": []
    },
    {
      "cell_type": "code",
      "metadata": {
        "colab": {
          "base_uri": "https://localhost:8080/"
        },
        "id": "vRCyOWBPUdyO",
        "outputId": "187e0375-527b-4256-dbf2-43850900a76c"
      },
      "source": [
        "lowercase_conversion_test = df['Description'][600001]\n",
        "print(\"o.g: \", books['Description'][600001])\n",
        "print(\"stopwords_removed_test: \", stopwords_removed_test)\n",
        "print(\"lowercase test: \", lowercase_conversion_test)"
      ],
      "execution_count": 22,
      "outputs": [
        {
          "output_type": "stream",
          "name": "stdout",
          "text": [
            "o.g:  At the age of fifteen, Jennifer Rothschild confronted two unshakable realities: Blindness is inevitable ... and God is enough. Now this popular author, speaker, and recording artist offers poignant lessons that illuminate a path to freedom and fulfillment. With warmth, humor, and insight, Jennifer shares the guiding principles she walks by -- and shows you how to walk forward by faith into God's marvelous light\n",
            "stopwords_removed_test:  At age fifteen Jennifer Rothschild confronted two unshakable realities Blindness inevitable God enough Now popular author speaker recording artist offers poignant lessons illuminate path freedom fulfillment With warmth humor insight Jennifer shares guiding principles walks shows walk forward faith Gods marvelous light\n",
            "lowercase test:  at age fifteen jennifer rothschild confronted two unshakable realities blindness inevitable god enough now popular author speaker recording artist offers poignant lessons illuminate path freedom fulfillment with warmth humor insight jennifer shares guiding principles walks shows walk forward faith gods marvelous light\n"
          ]
        }
      ]
    },
    {
      "cell_type": "code",
      "metadata": {
        "colab": {
          "base_uri": "https://localhost:8080/"
        },
        "id": "8W6wq8zPUq6S",
        "outputId": "f4349035-bcb7-4b2d-96ea-8dad6d64da84"
      },
      "source": [
        "# lemmatizing - convert all words to their root. This will take some time.\n",
        "\n",
        "nltk.download('wordnet')\n",
        "df['Description'] = df['Description'].apply(lambda x: \" \".join([Word(word).lemmatize() for word in x.split()]))\n",
        "df['Description'].head()"
      ],
      "execution_count": 23,
      "outputs": [
        {
          "output_type": "stream",
          "name": "stderr",
          "text": [
            "[nltk_data] Downloading package wordnet to\n",
            "[nltk_data]     /Users/mariamihaila/nltk_data...\n",
            "[nltk_data]   Package wordnet is already up-to-date!\n"
          ]
        },
        {
          "output_type": "execute_result",
          "data": {
            "text/plain": [
              "600000    lesson learnedbr br coordinating publicity tou...\n",
              "600001    at age fifteen jennifer rothschild confronted ...\n",
              "600004    ithe blended learning booki user manual implem...\n",
              "600005    blessons learned success achievedb help motiva...\n",
              "600007    many great advance technology resulted risky e...\n",
              "Name: Description, dtype: object"
            ]
          },
          "metadata": {},
          "execution_count": 23
        }
      ]
    },
    {
      "cell_type": "code",
      "metadata": {
        "id": "nCSIgTfqW-UZ",
        "colab": {
          "base_uri": "https://localhost:8080/"
        },
        "outputId": "e8d7f2f1-08d3-460b-a1e6-98d9db189dc7"
      },
      "source": [
        "lemmatized_test = df['Description'][600001]\n",
        "print(\"o.g: \", books['Description'][600001])\n",
        "print(\"stopwords_removed_test: \", stopwords_removed_test)\n",
        "print(\"lowercase test: \", lowercase_conversion_test)\n",
        "print(\"lemmatized test: \", lemmatized_test)\n"
      ],
      "execution_count": 24,
      "outputs": [
        {
          "output_type": "stream",
          "name": "stdout",
          "text": [
            "o.g:  At the age of fifteen, Jennifer Rothschild confronted two unshakable realities: Blindness is inevitable ... and God is enough. Now this popular author, speaker, and recording artist offers poignant lessons that illuminate a path to freedom and fulfillment. With warmth, humor, and insight, Jennifer shares the guiding principles she walks by -- and shows you how to walk forward by faith into God's marvelous light\n",
            "stopwords_removed_test:  At age fifteen Jennifer Rothschild confronted two unshakable realities Blindness inevitable God enough Now popular author speaker recording artist offers poignant lessons illuminate path freedom fulfillment With warmth humor insight Jennifer shares guiding principles walks shows walk forward faith Gods marvelous light\n",
            "lowercase test:  at age fifteen jennifer rothschild confronted two unshakable realities blindness inevitable god enough now popular author speaker recording artist offers poignant lessons illuminate path freedom fulfillment with warmth humor insight jennifer shares guiding principles walks shows walk forward faith gods marvelous light\n",
            "lemmatized test:  at age fifteen jennifer rothschild confronted two unshakable reality blindness inevitable god enough now popular author speaker recording artist offer poignant lesson illuminate path freedom fulfillment with warmth humor insight jennifer share guiding principle walk show walk forward faith god marvelous light\n"
          ]
        }
      ]
    },
    {
      "cell_type": "code",
      "metadata": {
        "id": "Si-hW1ytXKMg",
        "colab": {
          "base_uri": "https://localhost:8080/"
        },
        "outputId": "5f5794b9-b220-4fcb-e37c-7bce53297f25"
      },
      "source": [
        "# make sure df, the dataframe copy, is still intact\n",
        "df['Description']"
      ],
      "execution_count": 25,
      "outputs": [
        {
          "output_type": "execute_result",
          "data": {
            "text/plain": [
              "600000     lesson learnedbr br coordinating publicity tou...\n",
              "600001     at age fifteen jennifer rothschild confronted ...\n",
              "600004     ithe blended learning booki user manual implem...\n",
              "600005     blessons learned success achievedb help motiva...\n",
              "600007     many great advance technology resulted risky e...\n",
              "                                 ...                        \n",
              "4846428    in battle human microbe knowledge may best wea...\n",
              "4846434    excerpt meditation life passion christ from br...\n",
              "4846447    this text combination 32 reading 10 case it or...\n",
              "4846448    throughout working life vincent mulchrone reco...\n",
              "4846449    journalist broadcaster author ian skidmore col...\n",
              "Name: Description, Length: 997590, dtype: object"
            ]
          },
          "metadata": {},
          "execution_count": 25
        }
      ]
    },
    {
      "cell_type": "code",
      "metadata": {
        "id": "RV2IItw2XPZo"
      },
      "source": [
        "# now replace books['Description'] with the cleaned df['Description']\n",
        "# actually to play it safe ... make a new column.  \n",
        "books['Description_cleaned'] = df['Description']\n"
      ],
      "execution_count": 26,
      "outputs": []
    },
    {
      "cell_type": "markdown",
      "metadata": {
        "id": "8SBba2dkZBCn"
      },
      "source": [
        "### Create the book corpus \n",
        "combine the author, published and cleaned description columns"
      ]
    },
    {
      "cell_type": "code",
      "metadata": {
        "id": "qf5C_1HRYnwv"
      },
      "source": [
        "books['text'] = books['Authors'].map(str) + ' ' + books['Publisher'] + ' ' + books['Description_cleaned']"
      ],
      "execution_count": 27,
      "outputs": []
    },
    {
      "cell_type": "code",
      "metadata": {
        "id": "iVIw9qFUY7KX",
        "colab": {
          "base_uri": "https://localhost:8080/"
        },
        "outputId": "e13c158a-ce54-4f5c-a247-d4da309afcb9"
      },
      "source": [
        "books['text'][600001]"
      ],
      "execution_count": 28,
      "outputs": [
        {
          "output_type": "execute_result",
          "data": {
            "text/plain": [
              "'Jennifer Rothschild Lifeway Church Resources at age fifteen jennifer rothschild confronted two unshakable reality blindness inevitable god enough now popular author speaker recording artist offer poignant lesson illuminate path freedom fulfillment with warmth humor insight jennifer share guiding principle walk show walk forward faith god marvelous light'"
            ]
          },
          "metadata": {},
          "execution_count": 28
        }
      ]
    },
    {
      "cell_type": "code",
      "metadata": {
        "id": "TPe338A8ZY_O"
      },
      "source": [
        "books_corpus = books[['Name', 'ISBN','text']]\n",
        "books_corpus = books_corpus.fillna(\" \")\n",
        "books_corpus['text'] = books_corpus['text'].astype(str).str.lower() # convert everything to lowercase\n",
        "books_corpus['text'] = books_corpus['text'].str.replace('[^\\w\\s]','') # remove punctuation"
      ],
      "execution_count": 29,
      "outputs": []
    },
    {
      "cell_type": "code",
      "metadata": {
        "id": "YZkhtV1FaXWQ",
        "colab": {
          "base_uri": "https://localhost:8080/",
          "height": 419
        },
        "outputId": "2987c725-107a-4db9-bfd5-d98393b2f7d9"
      },
      "source": [
        "books_corpus"
      ],
      "execution_count": 30,
      "outputs": [
        {
          "output_type": "execute_result",
          "data": {
            "text/plain": [
              "                                                      Name        ISBN  \\\n",
              "600000                   Lessons Learned (Great Chefs, #2)  037351025X   \n",
              "600001       Walking by Faith: Lessons Learned in the Dark  0633099325   \n",
              "600004   The Blended Learning Book: Best Practices, Pro...  0787972967   \n",
              "600005   Lessons Learned: Successes Achieved: Be Prepar...  0595417566   \n",
              "600007   Computing Calamities: Lessons Learned from Pro...  0130828629   \n",
              "...                                                    ...         ...   \n",
              "4846428  Disinfection and Decontamination: Principles, ...  0849390745   \n",
              "4846434  Meditations on the Life and Passion of Christ:...  0527001554   \n",
              "4846447  International and Global Marketing: Concepts a...  0256218943   \n",
              "4846448                      The Best of Vincent Mulchrone  0955823811   \n",
              "4846449                        Forgive Us Our Press Passes  0955823803   \n",
              "\n",
              "                                                      text  \n",
              "600000   nora roberts silhouette lesson learnedbr br co...  \n",
              "600001   jennifer rothschild lifeway church resources a...  \n",
              "600004   josh bersin pfeiffer ithe blended learning boo...  \n",
              "600005   robert g gillio iuniverse blessons learned suc...  \n",
              "600007   robert l glass prentice hall many great advanc...  \n",
              "...                                                    ...  \n",
              "4846428  gurusamy manivannan crc press in battle human ...  \n",
              "4846434  charlotte develyn krause publications excerpt ...  \n",
              "4846447  taylor w meloan irwinmcgrawhill this text comb...  \n",
              "4846448  vincent mulchrone revel barker throughout work...  \n",
              "4846449  ian skidmore revel barker journalist broadcast...  \n",
              "\n",
              "[997590 rows x 3 columns]"
            ],
            "text/html": [
              "<div>\n",
              "<style scoped>\n",
              "    .dataframe tbody tr th:only-of-type {\n",
              "        vertical-align: middle;\n",
              "    }\n",
              "\n",
              "    .dataframe tbody tr th {\n",
              "        vertical-align: top;\n",
              "    }\n",
              "\n",
              "    .dataframe thead th {\n",
              "        text-align: right;\n",
              "    }\n",
              "</style>\n",
              "<table border=\"1\" class=\"dataframe\">\n",
              "  <thead>\n",
              "    <tr style=\"text-align: right;\">\n",
              "      <th></th>\n",
              "      <th>Name</th>\n",
              "      <th>ISBN</th>\n",
              "      <th>text</th>\n",
              "    </tr>\n",
              "  </thead>\n",
              "  <tbody>\n",
              "    <tr>\n",
              "      <th>600000</th>\n",
              "      <td>Lessons Learned (Great Chefs, #2)</td>\n",
              "      <td>037351025X</td>\n",
              "      <td>nora roberts silhouette lesson learnedbr br co...</td>\n",
              "    </tr>\n",
              "    <tr>\n",
              "      <th>600001</th>\n",
              "      <td>Walking by Faith: Lessons Learned in the Dark</td>\n",
              "      <td>0633099325</td>\n",
              "      <td>jennifer rothschild lifeway church resources a...</td>\n",
              "    </tr>\n",
              "    <tr>\n",
              "      <th>600004</th>\n",
              "      <td>The Blended Learning Book: Best Practices, Pro...</td>\n",
              "      <td>0787972967</td>\n",
              "      <td>josh bersin pfeiffer ithe blended learning boo...</td>\n",
              "    </tr>\n",
              "    <tr>\n",
              "      <th>600005</th>\n",
              "      <td>Lessons Learned: Successes Achieved: Be Prepar...</td>\n",
              "      <td>0595417566</td>\n",
              "      <td>robert g gillio iuniverse blessons learned suc...</td>\n",
              "    </tr>\n",
              "    <tr>\n",
              "      <th>600007</th>\n",
              "      <td>Computing Calamities: Lessons Learned from Pro...</td>\n",
              "      <td>0130828629</td>\n",
              "      <td>robert l glass prentice hall many great advanc...</td>\n",
              "    </tr>\n",
              "    <tr>\n",
              "      <th>...</th>\n",
              "      <td>...</td>\n",
              "      <td>...</td>\n",
              "      <td>...</td>\n",
              "    </tr>\n",
              "    <tr>\n",
              "      <th>4846428</th>\n",
              "      <td>Disinfection and Decontamination: Principles, ...</td>\n",
              "      <td>0849390745</td>\n",
              "      <td>gurusamy manivannan crc press in battle human ...</td>\n",
              "    </tr>\n",
              "    <tr>\n",
              "      <th>4846434</th>\n",
              "      <td>Meditations on the Life and Passion of Christ:...</td>\n",
              "      <td>0527001554</td>\n",
              "      <td>charlotte develyn krause publications excerpt ...</td>\n",
              "    </tr>\n",
              "    <tr>\n",
              "      <th>4846447</th>\n",
              "      <td>International and Global Marketing: Concepts a...</td>\n",
              "      <td>0256218943</td>\n",
              "      <td>taylor w meloan irwinmcgrawhill this text comb...</td>\n",
              "    </tr>\n",
              "    <tr>\n",
              "      <th>4846448</th>\n",
              "      <td>The Best of Vincent Mulchrone</td>\n",
              "      <td>0955823811</td>\n",
              "      <td>vincent mulchrone revel barker throughout work...</td>\n",
              "    </tr>\n",
              "    <tr>\n",
              "      <th>4846449</th>\n",
              "      <td>Forgive Us Our Press Passes</td>\n",
              "      <td>0955823803</td>\n",
              "      <td>ian skidmore revel barker journalist broadcast...</td>\n",
              "    </tr>\n",
              "  </tbody>\n",
              "</table>\n",
              "<p>997590 rows × 3 columns</p>\n",
              "</div>"
            ]
          },
          "metadata": {},
          "execution_count": 30
        }
      ]
    },
    {
      "cell_type": "code",
      "metadata": {
        "id": "PKPg4Fa4cah9"
      },
      "source": [
        "# DONT FORGET TO SAVE THE CLEANED DATA\n",
        "compression_opts = dict(method='zip', archive_name='books_corpus.csv')  # doctest: +SKIP\n",
        "books_corpus.to_csv('goodreads_recc.zip', index=False, compression=compression_opts)  # doctest: +SKIP"
      ],
      "execution_count": 31,
      "outputs": []
    },
    {
      "cell_type": "markdown",
      "metadata": {
        "id": "EG1lGo3UaqHm"
      },
      "source": [
        "## Time for TF-IDF"
      ]
    },
    {
      "cell_type": "code",
      "metadata": {
        "id": "zK7Ae27lB1M3"
      },
      "source": [
        "import pandas as pd\n",
        "books_corpus = pd.read_csv('books_corpus.csv')"
      ],
      "execution_count": 2,
      "outputs": []
    },
    {
      "cell_type": "code",
      "metadata": {
        "id": "KcuXojgQatKC",
        "colab": {
          "base_uri": "https://localhost:8080/"
        },
        "outputId": "da13f447-61f5-46b8-f20c-85fcbdac2919"
      },
      "source": [
        "#initializing tfidf vectorizer\n",
        "from sklearn.feature_extraction.text import TfidfVectorizer\n",
        "tfidf_vectorizer = TfidfVectorizer()\n",
        "tfidf_books = tfidf_vectorizer.fit_transform((books_corpus['text'][:10000])) \n",
        "tfidf_books"
      ],
      "execution_count": 3,
      "outputs": [
        {
          "output_type": "execute_result",
          "data": {
            "text/plain": [
              "<10000x75631 sparse matrix of type '<class 'numpy.float64'>'\n",
              "\twith 659327 stored elements in Compressed Sparse Row format>"
            ]
          },
          "metadata": {},
          "execution_count": 3
        }
      ]
    },
    {
      "cell_type": "markdown",
      "metadata": {
        "id": "-nyNNjJ_a4p0"
      },
      "source": [
        "### Building the recommendation system:\n",
        "\n",
        "- compute cosine similarity using tfidf\n",
        "- the recommendation function:\n",
        "\n",
        "    *    get index of the user inputted book title\n",
        "    *    search cosine similarity matrix, sorting the similarity values in descending order\n",
        "    * return a list of the top 10 most similar books\n",
        "    \n",
        "\n",
        "\n"
      ]
    },
    {
      "cell_type": "code",
      "metadata": {
        "id": "RkPeoJAobmDs"
      },
      "source": [
        "from sklearn.metrics.pairwise import cosine_similarity\n",
        "cosine_sim = cosine_similarity(tfidf_books)"
      ],
      "execution_count": 4,
      "outputs": []
    },
    {
      "cell_type": "code",
      "metadata": {
        "colab": {
          "base_uri": "https://localhost:8080/"
        },
        "id": "2EdTCgcIEdUJ",
        "outputId": "d41595a3-b60d-49c8-bde9-e43795ea9d76"
      },
      "source": [
        "cosine_sim.shape"
      ],
      "execution_count": 5,
      "outputs": [
        {
          "output_type": "execute_result",
          "data": {
            "text/plain": [
              "(10000, 10000)"
            ]
          },
          "metadata": {},
          "execution_count": 5
        }
      ]
    },
    {
      "cell_type": "code",
      "metadata": {
        "id": "9KSo8Xvsb1RJ"
      },
      "source": [
        " indices = pd.Series(books_corpus['Name'])\n",
        "\n",
        " def recommend(title, cosine_sim = cosine_sim):\n",
        "    recommended_books = []\n",
        "    idx = indices[indices == title].index[0]\n",
        "    score_series = pd.Series(cosine_sim[idx]).sort_values(ascending = False)   # similarity scores in descending order\n",
        "    top_10_indices = list(score_series.iloc[1:11].index)   # to get the indices of top 10 most similar books\n",
        "    \n",
        "    for i in top_10_indices:   # to append the titles of top 10 similar movies to the recommended_movies list\n",
        "        recommended_books.append(list(books_corpus['Name'])[i])\n",
        "        \n",
        "    return recommended_books"
      ],
      "execution_count": 6,
      "outputs": []
    },
    {
      "cell_type": "code",
      "metadata": {
        "colab": {
          "base_uri": "https://localhost:8080/"
        },
        "id": "_JZVM471CKt9",
        "outputId": "38c98582-dc83-4f18-8531-af75cb6274c8"
      },
      "source": [
        "books_corpus['Name'][:20000]"
      ],
      "execution_count": 8,
      "outputs": [
        {
          "output_type": "execute_result",
          "data": {
            "text/plain": [
              "0                        Lessons Learned (Great Chefs, #2)\n",
              "1            Walking by Faith: Lessons Learned in the Dark\n",
              "2        The Blended Learning Book: Best Practices, Pro...\n",
              "3        Lessons Learned: Successes Achieved: Be Prepar...\n",
              "4        Computing Calamities: Lessons Learned from Pro...\n",
              "                               ...                        \n",
              "19995                                  The Seven Year Itch\n",
              "19996               Philadelphia Murals  Stories They Tell\n",
              "19997                                 Philadelphia Stories\n",
              "19998                                           Odd Couple\n",
              "19999                  Noel Coward Collected Short Stories\n",
              "Name: Name, Length: 20000, dtype: object"
            ]
          },
          "metadata": {},
          "execution_count": 8
        }
      ]
    },
    {
      "cell_type": "code",
      "metadata": {
        "id": "1QGkfkbscF8T",
        "colab": {
          "base_uri": "https://localhost:8080/"
        },
        "outputId": "df451338-2f88-4d5d-88d7-9fce9d857ed7"
      },
      "source": [
        "recommend(\"Economists' Mathematical Manual\")"
      ],
      "execution_count": 12,
      "outputs": [
        {
          "output_type": "execute_result",
          "data": {
            "text/plain": [
              "['The Age of the Economist',\n",
              " 'Measure, Integral and Probability',\n",
              " 'Playing with Infinity',\n",
              " 'Anesthetic and Obstetric Management of High-Risk Pregnancy',\n",
              " 'Political Anthropology: An Introduction',\n",
              " 'Economics: Making sense of the Modern Economy',\n",
              " 'The Instant Economist: All The Basic Principles Of Economics In 100 Pages Of Plain Talk',\n",
              " 'Numbers Guide: The Essentials of Business Numeracy',\n",
              " \"Chef's Book of Formulas, Yields, and Sizes\",\n",
              " 'On the Other Hand: Essays on Economics, Economists, and Politics']"
            ]
          },
          "metadata": {},
          "execution_count": 12
        }
      ]
    }
  ]
}