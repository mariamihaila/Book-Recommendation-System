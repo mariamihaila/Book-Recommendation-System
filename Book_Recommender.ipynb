{
  "nbformat": 4,
  "nbformat_minor": 0,
  "metadata": {
    "colab": {
      "name": "Book Recommender.ipynb",
      "provenance": [],
      "collapsed_sections": [
        "oeFT_vA2JOs8"
      ],
      "authorship_tag": "ABX9TyMSks2t7+rkLFVF4xXCpPf2",
      "include_colab_link": true
    },
    "kernelspec": {
      "name": "python3",
      "display_name": "Python 3"
    },
    "language_info": {
      "name": "python"
    },
    "accelerator": "GPU"
  },
  "cells": [
    {
      "cell_type": "markdown",
      "metadata": {
        "id": "view-in-github",
        "colab_type": "text"
      },
      "source": [
        "<a href=\"https://colab.research.google.com/github/mariamihaila/Book-Recommendation-System/blob/main/Book_Recommender.ipynb\" target=\"_parent\"><img src=\"https://colab.research.google.com/assets/colab-badge.svg\" alt=\"Open In Colab\"/></a>"
      ]
    },
    {
      "cell_type": "markdown",
      "metadata": {
        "id": "skQRjNTkE8Wi"
      },
      "source": [
        "# Academic Book Recommendation System \n",
        "#### Dataset of 10,000 Books From Eight Top Academic Publishers\n",
        "#### Content - Based  Recommendation System using TF-IDF\n",
        "\n",
        "\n",
        "\n"
      ]
    },
    {
      "cell_type": "markdown",
      "metadata": {
        "id": "B-3rHrdl0fdn"
      },
      "source": [
        "\n",
        "\n",
        "### Load the goodreads data as a panda series dataframe\n"
      ]
    },
    {
      "cell_type": "code",
      "metadata": {
        "id": "77xjTNKe0a3E",
        "colab": {
          "base_uri": "https://localhost:8080/",
          "height": 103
        },
        "outputId": "500bc669-2f0c-442c-fa0d-2e3b3f178cc3"
      },
      "source": [
        "import pandas as pd\n",
        "from rake_nltk import Rake\n",
        "import nltk\n",
        "from nltk.corpus import words\n",
        "from nltk.corpus import stopwords\n",
        "\n",
        "import numpy as np\n",
        "from sklearn.metrics.pairwise import cosine_similarity\n",
        "from sklearn.feature_extraction.text import CountVectorizer\n",
        "import warnings\n",
        "\n",
        "from textblob import TextBlob\n",
        "from textblob import Word\n",
        "\n",
        "import seaborn as sns\n",
        "\n",
        "import re\n",
        "warnings.filterwarnings(\"ignore\")\n",
        "books = pd.DataFrame(columns = pd.read_csv('/Users/mariamihaila/Downloads/goodreads/book1000k-1100k.csv', index_col = 'Id').columns)\n",
        "books"
      ],
      "execution_count": 1,
      "outputs": [
        {
          "output_type": "execute_result",
          "data": {
            "text/plain": [
              "Empty DataFrame\n",
              "Columns: [Name, Authors, ISBN, Rating, PublishYear, PublishMonth, PublishDay, Publisher, RatingDist5, RatingDist4, RatingDist3, RatingDist2, RatingDist1, RatingDistTotal, CountsOfReview, Language, pagesNumber, Description, Count of text reviews]\n",
              "Index: []"
            ],
            "text/html": [
              "<div>\n",
              "<style scoped>\n",
              "    .dataframe tbody tr th:only-of-type {\n",
              "        vertical-align: middle;\n",
              "    }\n",
              "\n",
              "    .dataframe tbody tr th {\n",
              "        vertical-align: top;\n",
              "    }\n",
              "\n",
              "    .dataframe thead th {\n",
              "        text-align: right;\n",
              "    }\n",
              "</style>\n",
              "<table border=\"1\" class=\"dataframe\">\n",
              "  <thead>\n",
              "    <tr style=\"text-align: right;\">\n",
              "      <th></th>\n",
              "      <th>Name</th>\n",
              "      <th>Authors</th>\n",
              "      <th>ISBN</th>\n",
              "      <th>Rating</th>\n",
              "      <th>PublishYear</th>\n",
              "      <th>PublishMonth</th>\n",
              "      <th>PublishDay</th>\n",
              "      <th>Publisher</th>\n",
              "      <th>RatingDist5</th>\n",
              "      <th>RatingDist4</th>\n",
              "      <th>RatingDist3</th>\n",
              "      <th>RatingDist2</th>\n",
              "      <th>RatingDist1</th>\n",
              "      <th>RatingDistTotal</th>\n",
              "      <th>CountsOfReview</th>\n",
              "      <th>Language</th>\n",
              "      <th>pagesNumber</th>\n",
              "      <th>Description</th>\n",
              "      <th>Count of text reviews</th>\n",
              "    </tr>\n",
              "  </thead>\n",
              "  <tbody>\n",
              "  </tbody>\n",
              "</table>\n",
              "</div>"
            ]
          },
          "metadata": {},
          "execution_count": 1
        }
      ]
    },
    {
      "cell_type": "code",
      "metadata": {
        "id": "fGTHp9cc0d2r",
        "colab": {
          "base_uri": "https://localhost:8080/"
        },
        "outputId": "dab65fe2-f460-4c6b-cb2a-74da1f3ada7a"
      },
      "source": [
        "import os\n",
        "for dirname, _, filenames in os.walk('/Users/mariamihaila/Downloads/goodreads/'):\n",
        "    for filename in filenames:\n",
        "        if \"_\" not in filename:\n",
        "            books = pd.concat([books, pd.read_csv(os.path.join(dirname, filename), index_col = 'Id')])\n",
        "            print(os.path.join(dirname, filename), 'OK')\n"
      ],
      "execution_count": 2,
      "outputs": [
        {
          "output_type": "stream",
          "name": "stdout",
          "text": [
            "/Users/mariamihaila/Downloads/goodreads/book1900k-2000k.csv OK\n",
            "/Users/mariamihaila/Downloads/goodreads/book1600k-1700k.csv OK\n",
            "/Users/mariamihaila/Downloads/goodreads/book700k-800k.csv OK\n",
            "/Users/mariamihaila/Downloads/goodreads/book600k-700k.csv OK\n",
            "/Users/mariamihaila/Downloads/goodreads/book1000k-1100k.csv OK\n",
            "/Users/mariamihaila/Downloads/goodreads/book100k-200k.csv OK\n",
            "/Users/mariamihaila/Downloads/goodreads/book1300k-1400k.csv OK\n",
            "/Users/mariamihaila/Downloads/goodreads/book1500k-1600k.csv OK\n",
            "/Users/mariamihaila/Downloads/goodreads/book1200k-1300k.csv OK\n",
            "/Users/mariamihaila/Downloads/goodreads/book800k-900k.csv OK\n",
            "/Users/mariamihaila/Downloads/goodreads/book2000k-3000k.csv OK\n",
            "/Users/mariamihaila/Downloads/goodreads/book400k-500k.csv OK\n",
            "/Users/mariamihaila/Downloads/goodreads/book1700k-1800k.csv OK\n",
            "/Users/mariamihaila/Downloads/goodreads/book1800k-1900k.csv OK\n",
            "/Users/mariamihaila/Downloads/goodreads/book200k-300k.csv OK\n",
            "/Users/mariamihaila/Downloads/goodreads/book500k-600k.csv OK\n",
            "/Users/mariamihaila/Downloads/goodreads/book300k-400k.csv OK\n",
            "/Users/mariamihaila/Downloads/goodreads/book900k-1000k.csv OK\n",
            "/Users/mariamihaila/Downloads/goodreads/book1100k-1200k.csv OK\n",
            "/Users/mariamihaila/Downloads/goodreads/book3000k-4000k.csv OK\n",
            "/Users/mariamihaila/Downloads/goodreads/book4000k-5000k.csv OK\n",
            "/Users/mariamihaila/Downloads/goodreads/book1-100k.csv OK\n",
            "/Users/mariamihaila/Downloads/goodreads/book1400k-1500k.csv OK\n"
          ]
        }
      ]
    },
    {
      "cell_type": "markdown",
      "metadata": {
        "id": "1UTv5Z4RInPe"
      },
      "source": [
        "## Exploratory Data Analysis \n"
      ]
    },
    {
      "cell_type": "markdown",
      "metadata": {
        "id": "bIWTEGS_dk1u"
      },
      "source": [
        "### Feature Extraction: "
      ]
    },
    {
      "cell_type": "code",
      "metadata": {
        "colab": {
          "base_uri": "https://localhost:8080/",
          "height": 598
        },
        "id": "rhU_ANcJ4Uuk",
        "outputId": "971c37c3-ec4c-497c-a868-78e106c19fdc"
      },
      "source": [
        "books.head()"
      ],
      "execution_count": 3,
      "outputs": [
        {
          "output_type": "execute_result",
          "data": {
            "text/plain": [
              "                                                      Name  \\\n",
              "1900511                                         Barbarossa   \n",
              "1900512  Collector's Guide to German World War II: Comb...   \n",
              "1900514                               Images of Barbarossa   \n",
              "1900520        Romania After 2000: Five New Romanian Plays   \n",
              "1900521           Global Foreigners: An Anthology of Plays   \n",
              "\n",
              "                        Authors        ISBN  Rating PublishYear PublishMonth  \\\n",
              "1900511      Christopher Ailsby  1840138009     3.0        2007            4   \n",
              "1900512      Christopher Ailsby  0781802253     0.0        1994            7   \n",
              "1900514      Christopher Ailsby  0711028257     3.5        2001            1   \n",
              "1900520  Daniel Charles Gerould  0595436560     4.0        2007            9   \n",
              "1900521        Saviana Stănescu  1905422423     4.6        2006           12   \n",
              "\n",
              "        PublishDay                                    Publisher RatingDist5  \\\n",
              "1900511          1                               New Line Books         5:0   \n",
              "1900512          1                             Hippocrene Books         5:0   \n",
              "1900514         25                                Ian Allan Ltd         5:0   \n",
              "1900520          1  Martin E. Segal Theatre Center Publications         5:1   \n",
              "1900521          7                                Seagull Books         5:4   \n",
              "\n",
              "        RatingDist4 RatingDist3 RatingDist2 RatingDist1 RatingDistTotal  \\\n",
              "1900511         4:0         3:1         2:0         1:0         total:1   \n",
              "1900512         4:0         3:0         2:0         1:0         total:0   \n",
              "1900514         4:5         3:2         2:1         1:0         total:8   \n",
              "1900520         4:4         3:1         2:0         1:0         total:6   \n",
              "1900521         4:0         3:1         2:0         1:0         total:5   \n",
              "\n",
              "        CountsOfReview Language pagesNumber  \\\n",
              "1900511              0      NaN         NaN   \n",
              "1900512              0      NaN         NaN   \n",
              "1900514              0      NaN         NaN   \n",
              "1900520              0      NaN         NaN   \n",
              "1900521              0      NaN         NaN   \n",
              "\n",
              "                                               Description  \\\n",
              "1900511  On 22 June 1941, Adolf Hitler launched Operati...   \n",
              "1900512                                                NaN   \n",
              "1900514  On 22 June 1941, Adolf Hitler launched Operati...   \n",
              "1900520  The first anthology of new Romanian Drama publ...   \n",
              "1900521  In Waxing West, Daniella, newly arrived in the...   \n",
              "\n",
              "        Count of text reviews  PagesNumber  \n",
              "1900511                   NaN        192.0  \n",
              "1900512                   NaN        160.0  \n",
              "1900514                   NaN        256.0  \n",
              "1900520                   NaN        226.0  \n",
              "1900521                   NaN        320.0  "
            ],
            "text/html": [
              "<div>\n",
              "<style scoped>\n",
              "    .dataframe tbody tr th:only-of-type {\n",
              "        vertical-align: middle;\n",
              "    }\n",
              "\n",
              "    .dataframe tbody tr th {\n",
              "        vertical-align: top;\n",
              "    }\n",
              "\n",
              "    .dataframe thead th {\n",
              "        text-align: right;\n",
              "    }\n",
              "</style>\n",
              "<table border=\"1\" class=\"dataframe\">\n",
              "  <thead>\n",
              "    <tr style=\"text-align: right;\">\n",
              "      <th></th>\n",
              "      <th>Name</th>\n",
              "      <th>Authors</th>\n",
              "      <th>ISBN</th>\n",
              "      <th>Rating</th>\n",
              "      <th>PublishYear</th>\n",
              "      <th>PublishMonth</th>\n",
              "      <th>PublishDay</th>\n",
              "      <th>Publisher</th>\n",
              "      <th>RatingDist5</th>\n",
              "      <th>RatingDist4</th>\n",
              "      <th>RatingDist3</th>\n",
              "      <th>RatingDist2</th>\n",
              "      <th>RatingDist1</th>\n",
              "      <th>RatingDistTotal</th>\n",
              "      <th>CountsOfReview</th>\n",
              "      <th>Language</th>\n",
              "      <th>pagesNumber</th>\n",
              "      <th>Description</th>\n",
              "      <th>Count of text reviews</th>\n",
              "      <th>PagesNumber</th>\n",
              "    </tr>\n",
              "  </thead>\n",
              "  <tbody>\n",
              "    <tr>\n",
              "      <th>1900511</th>\n",
              "      <td>Barbarossa</td>\n",
              "      <td>Christopher Ailsby</td>\n",
              "      <td>1840138009</td>\n",
              "      <td>3.0</td>\n",
              "      <td>2007</td>\n",
              "      <td>4</td>\n",
              "      <td>1</td>\n",
              "      <td>New Line Books</td>\n",
              "      <td>5:0</td>\n",
              "      <td>4:0</td>\n",
              "      <td>3:1</td>\n",
              "      <td>2:0</td>\n",
              "      <td>1:0</td>\n",
              "      <td>total:1</td>\n",
              "      <td>0</td>\n",
              "      <td>NaN</td>\n",
              "      <td>NaN</td>\n",
              "      <td>On 22 June 1941, Adolf Hitler launched Operati...</td>\n",
              "      <td>NaN</td>\n",
              "      <td>192.0</td>\n",
              "    </tr>\n",
              "    <tr>\n",
              "      <th>1900512</th>\n",
              "      <td>Collector's Guide to German World War II: Comb...</td>\n",
              "      <td>Christopher Ailsby</td>\n",
              "      <td>0781802253</td>\n",
              "      <td>0.0</td>\n",
              "      <td>1994</td>\n",
              "      <td>7</td>\n",
              "      <td>1</td>\n",
              "      <td>Hippocrene Books</td>\n",
              "      <td>5:0</td>\n",
              "      <td>4:0</td>\n",
              "      <td>3:0</td>\n",
              "      <td>2:0</td>\n",
              "      <td>1:0</td>\n",
              "      <td>total:0</td>\n",
              "      <td>0</td>\n",
              "      <td>NaN</td>\n",
              "      <td>NaN</td>\n",
              "      <td>NaN</td>\n",
              "      <td>NaN</td>\n",
              "      <td>160.0</td>\n",
              "    </tr>\n",
              "    <tr>\n",
              "      <th>1900514</th>\n",
              "      <td>Images of Barbarossa</td>\n",
              "      <td>Christopher Ailsby</td>\n",
              "      <td>0711028257</td>\n",
              "      <td>3.5</td>\n",
              "      <td>2001</td>\n",
              "      <td>1</td>\n",
              "      <td>25</td>\n",
              "      <td>Ian Allan Ltd</td>\n",
              "      <td>5:0</td>\n",
              "      <td>4:5</td>\n",
              "      <td>3:2</td>\n",
              "      <td>2:1</td>\n",
              "      <td>1:0</td>\n",
              "      <td>total:8</td>\n",
              "      <td>0</td>\n",
              "      <td>NaN</td>\n",
              "      <td>NaN</td>\n",
              "      <td>On 22 June 1941, Adolf Hitler launched Operati...</td>\n",
              "      <td>NaN</td>\n",
              "      <td>256.0</td>\n",
              "    </tr>\n",
              "    <tr>\n",
              "      <th>1900520</th>\n",
              "      <td>Romania After 2000: Five New Romanian Plays</td>\n",
              "      <td>Daniel Charles Gerould</td>\n",
              "      <td>0595436560</td>\n",
              "      <td>4.0</td>\n",
              "      <td>2007</td>\n",
              "      <td>9</td>\n",
              "      <td>1</td>\n",
              "      <td>Martin E. Segal Theatre Center Publications</td>\n",
              "      <td>5:1</td>\n",
              "      <td>4:4</td>\n",
              "      <td>3:1</td>\n",
              "      <td>2:0</td>\n",
              "      <td>1:0</td>\n",
              "      <td>total:6</td>\n",
              "      <td>0</td>\n",
              "      <td>NaN</td>\n",
              "      <td>NaN</td>\n",
              "      <td>The first anthology of new Romanian Drama publ...</td>\n",
              "      <td>NaN</td>\n",
              "      <td>226.0</td>\n",
              "    </tr>\n",
              "    <tr>\n",
              "      <th>1900521</th>\n",
              "      <td>Global Foreigners: An Anthology of Plays</td>\n",
              "      <td>Saviana Stănescu</td>\n",
              "      <td>1905422423</td>\n",
              "      <td>4.6</td>\n",
              "      <td>2006</td>\n",
              "      <td>12</td>\n",
              "      <td>7</td>\n",
              "      <td>Seagull Books</td>\n",
              "      <td>5:4</td>\n",
              "      <td>4:0</td>\n",
              "      <td>3:1</td>\n",
              "      <td>2:0</td>\n",
              "      <td>1:0</td>\n",
              "      <td>total:5</td>\n",
              "      <td>0</td>\n",
              "      <td>NaN</td>\n",
              "      <td>NaN</td>\n",
              "      <td>In Waxing West, Daniella, newly arrived in the...</td>\n",
              "      <td>NaN</td>\n",
              "      <td>320.0</td>\n",
              "    </tr>\n",
              "  </tbody>\n",
              "</table>\n",
              "</div>"
            ]
          },
          "metadata": {},
          "execution_count": 3
        }
      ]
    },
    {
      "cell_type": "markdown",
      "metadata": {
        "id": "nn1EC4VN4xZ2"
      },
      "source": [
        "How many unique book title are there? \n",
        "\n",
        "\n",
        ">  Answer: 1636235\n",
        "\n",
        "\n"
      ]
    },
    {
      "cell_type": "code",
      "metadata": {
        "colab": {
          "base_uri": "https://localhost:8080/"
        },
        "id": "zqQmbQgP4enS",
        "outputId": "b54fb7e3-8723-4cf8-fd5b-83af5031b525"
      },
      "source": [
        "books.info()"
      ],
      "execution_count": 4,
      "outputs": [
        {
          "output_type": "stream",
          "name": "stdout",
          "text": [
            "<class 'pandas.core.frame.DataFrame'>\n",
            "Int64Index: 1850310 entries, 1900511 to 1499999\n",
            "Data columns (total 20 columns):\n",
            " #   Column                 Dtype  \n",
            "---  ------                 -----  \n",
            " 0   Name                   object \n",
            " 1   Authors                object \n",
            " 2   ISBN                   object \n",
            " 3   Rating                 float64\n",
            " 4   PublishYear            object \n",
            " 5   PublishMonth           object \n",
            " 6   PublishDay             object \n",
            " 7   Publisher              object \n",
            " 8   RatingDist5            object \n",
            " 9   RatingDist4            object \n",
            " 10  RatingDist3            object \n",
            " 11  RatingDist2            object \n",
            " 12  RatingDist1            object \n",
            " 13  RatingDistTotal        object \n",
            " 14  CountsOfReview         object \n",
            " 15  Language               object \n",
            " 16  pagesNumber            object \n",
            " 17  Description            object \n",
            " 18  Count of text reviews  object \n",
            " 19  PagesNumber            float64\n",
            "dtypes: float64(2), object(18)\n",
            "memory usage: 296.5+ MB\n"
          ]
        }
      ]
    },
    {
      "cell_type": "code",
      "metadata": {
        "colab": {
          "base_uri": "https://localhost:8080/"
        },
        "id": "miN_l4oB4shq",
        "outputId": "a408cd92-2ad9-47f8-85f3-4ec6125b7e37"
      },
      "source": [
        "books['Name'].nunique()"
      ],
      "execution_count": 5,
      "outputs": [
        {
          "output_type": "execute_result",
          "data": {
            "text/plain": [
              "1636235"
            ]
          },
          "metadata": {},
          "execution_count": 5
        }
      ]
    },
    {
      "cell_type": "markdown",
      "metadata": {
        "id": "fSY6c1mV5KKD"
      },
      "source": [
        "How many books are in the dataset? \n",
        "\n",
        "\n",
        "> Answer: 1850310\n",
        "\n",
        "This means that some of the books are probably duplicates of eachother, possibly different editions. Let's remove all the title duplicates. \n",
        "\n"
      ]
    },
    {
      "cell_type": "code",
      "metadata": {
        "colab": {
          "base_uri": "https://localhost:8080/"
        },
        "id": "OYke6NeW5Gy3",
        "outputId": "438a98c9-0c3e-47f2-9c04-27f5ca8d7206"
      },
      "source": [
        "len(books['Name'])"
      ],
      "execution_count": 6,
      "outputs": [
        {
          "output_type": "execute_result",
          "data": {
            "text/plain": [
              "1850310"
            ]
          },
          "metadata": {},
          "execution_count": 6
        }
      ]
    },
    {
      "cell_type": "markdown",
      "metadata": {
        "id": "DRgICs9dOQoC"
      },
      "source": [
        "### Remove duplicate books from the dataset\n",
        "\n"
      ]
    },
    {
      "cell_type": "code",
      "metadata": {
        "id": "09_HHGouLGKG"
      },
      "source": [
        "books.sort_index(inplace = True)\n"
      ],
      "execution_count": 7,
      "outputs": []
    },
    {
      "cell_type": "code",
      "metadata": {
        "id": "o673yonAMzO2"
      },
      "source": [
        "# extract duplicate rows\n",
        "books.loc[books.Name.duplicated(), :]\n",
        "# drop the duplicate books from the data set\n",
        "books.drop_duplicates(subset = ['Name'], inplace = True)"
      ],
      "execution_count": 8,
      "outputs": []
    },
    {
      "cell_type": "markdown",
      "metadata": {
        "id": "nMdX40lIOzcI"
      },
      "source": [
        "Make sure the duplicate drop was succesful: "
      ]
    },
    {
      "cell_type": "code",
      "metadata": {
        "colab": {
          "base_uri": "https://localhost:8080/"
        },
        "id": "PHscMg85MCNU",
        "outputId": "6b556dda-10f4-48f6-888a-3f4a02b7ffaa"
      },
      "source": [
        "(books.Name.duplicated()).sum()"
      ],
      "execution_count": 9,
      "outputs": [
        {
          "output_type": "execute_result",
          "data": {
            "text/plain": [
              "0"
            ]
          },
          "metadata": {},
          "execution_count": 9
        }
      ]
    },
    {
      "cell_type": "code",
      "metadata": {
        "colab": {
          "base_uri": "https://localhost:8080/"
        },
        "id": "P0Wsi6_uNqXg",
        "outputId": "c3cd01de-f291-4974-8cf4-490296e7ad5a"
      },
      "source": [
        "len(books['Name'])"
      ],
      "execution_count": 10,
      "outputs": [
        {
          "output_type": "execute_result",
          "data": {
            "text/plain": [
              "1636235"
            ]
          },
          "metadata": {},
          "execution_count": 10
        }
      ]
    },
    {
      "cell_type": "markdown",
      "metadata": {
        "id": "oeFT_vA2JOs8"
      },
      "source": [
        "### Remove books with no description\n",
        "Check for null values. We see that there are quite a few entries with data missing. For the sake of accurate reccomendation, I will remove the 679122 books that are missing a description. "
      ]
    },
    {
      "cell_type": "code",
      "metadata": {
        "colab": {
          "base_uri": "https://localhost:8080/"
        },
        "id": "aT_xlxSII4Lq",
        "outputId": "3ca5df23-47a3-40b2-cb57-7d902fc24d35"
      },
      "source": [
        "books.isnull().sum()"
      ],
      "execution_count": 11,
      "outputs": [
        {
          "output_type": "execute_result",
          "data": {
            "text/plain": [
              "Name                           0\n",
              "Authors                        0\n",
              "ISBN                        5013\n",
              "Rating                         0\n",
              "PublishYear                    0\n",
              "PublishMonth                   0\n",
              "PublishDay                     0\n",
              "Publisher                  16634\n",
              "RatingDist5                    0\n",
              "RatingDist4                    0\n",
              "RatingDist3                    0\n",
              "RatingDist2                    0\n",
              "RatingDist1                    0\n",
              "RatingDistTotal                0\n",
              "CountsOfReview                 0\n",
              "Language                 1425579\n",
              "pagesNumber               881824\n",
              "Description               638645\n",
              "Count of text reviews    1282821\n",
              "PagesNumber               754411\n",
              "dtype: int64"
            ]
          },
          "metadata": {},
          "execution_count": 11
        }
      ]
    },
    {
      "cell_type": "code",
      "metadata": {
        "colab": {
          "base_uri": "https://localhost:8080/",
          "height": 0
        },
        "id": "dDnPJrYfO8gy",
        "outputId": "3bcd570e-d899-455b-c8e2-a00f453c81dc"
      },
      "source": [
        "books[books['Description'].isnull()].head()"
      ],
      "execution_count": 12,
      "outputs": [
        {
          "output_type": "execute_result",
          "data": {
            "text/plain": [
              "                                                Name       Authors  \\\n",
              "1  Harry Potter and the Half-Blood Prince (Harry ...  J.K. Rowling   \n",
              "2  Harry Potter and the Order of the Phoenix (Har...  J.K. Rowling   \n",
              "3  Harry Potter and the Sorcerer's Stone (Harry P...  J.K. Rowling   \n",
              "4  Harry Potter and the Chamber of Secrets (Harry...  J.K. Rowling   \n",
              "5  Harry Potter and the Prisoner of Azkaban (Harr...  J.K. Rowling   \n",
              "\n",
              "         ISBN  Rating PublishYear PublishMonth PublishDay        Publisher  \\\n",
              "1         NaN    4.57        2006           16          9  Scholastic Inc.   \n",
              "2  0439358078    4.50        2004            1          9  Scholastic Inc.   \n",
              "3         NaN    4.47        2003            1         11   Scholastic Inc   \n",
              "4  0439554896    4.42        2003            1         11       Scholastic   \n",
              "5  043965548X    4.57        2004            1          5  Scholastic Inc.   \n",
              "\n",
              "  RatingDist5 RatingDist4 RatingDist3 RatingDist2 RatingDist1 RatingDistTotal  \\\n",
              "1   5:1546466    4:556485    3:159960     2:25317      1:9896   total:2298124   \n",
              "2   5:1493113    4:604283    3:211781     2:37005     1:12455   total:2358637   \n",
              "3   5:4268227   4:1513191    3:567458    2:130310    1:108202   total:6587388   \n",
              "4   5:1504505    4:706082    3:288821     2:49353     1:11896   total:2560657   \n",
              "5   5:1749958    4:630534    3:194848     2:24849     1:10128   total:2610317   \n",
              "\n",
              "  CountsOfReview Language pagesNumber Description Count of text reviews  \\\n",
              "1          28062      eng         652         NaN                   NaN   \n",
              "2          29770      eng         870         NaN                   NaN   \n",
              "3          75911      eng         309         NaN                   NaN   \n",
              "4            244      eng         352         NaN                   NaN   \n",
              "5          37093      eng         435         NaN                   NaN   \n",
              "\n",
              "   PagesNumber  \n",
              "1          NaN  \n",
              "2          NaN  \n",
              "3          NaN  \n",
              "4          NaN  \n",
              "5          NaN  "
            ],
            "text/html": [
              "<div>\n",
              "<style scoped>\n",
              "    .dataframe tbody tr th:only-of-type {\n",
              "        vertical-align: middle;\n",
              "    }\n",
              "\n",
              "    .dataframe tbody tr th {\n",
              "        vertical-align: top;\n",
              "    }\n",
              "\n",
              "    .dataframe thead th {\n",
              "        text-align: right;\n",
              "    }\n",
              "</style>\n",
              "<table border=\"1\" class=\"dataframe\">\n",
              "  <thead>\n",
              "    <tr style=\"text-align: right;\">\n",
              "      <th></th>\n",
              "      <th>Name</th>\n",
              "      <th>Authors</th>\n",
              "      <th>ISBN</th>\n",
              "      <th>Rating</th>\n",
              "      <th>PublishYear</th>\n",
              "      <th>PublishMonth</th>\n",
              "      <th>PublishDay</th>\n",
              "      <th>Publisher</th>\n",
              "      <th>RatingDist5</th>\n",
              "      <th>RatingDist4</th>\n",
              "      <th>RatingDist3</th>\n",
              "      <th>RatingDist2</th>\n",
              "      <th>RatingDist1</th>\n",
              "      <th>RatingDistTotal</th>\n",
              "      <th>CountsOfReview</th>\n",
              "      <th>Language</th>\n",
              "      <th>pagesNumber</th>\n",
              "      <th>Description</th>\n",
              "      <th>Count of text reviews</th>\n",
              "      <th>PagesNumber</th>\n",
              "    </tr>\n",
              "  </thead>\n",
              "  <tbody>\n",
              "    <tr>\n",
              "      <th>1</th>\n",
              "      <td>Harry Potter and the Half-Blood Prince (Harry ...</td>\n",
              "      <td>J.K. Rowling</td>\n",
              "      <td>NaN</td>\n",
              "      <td>4.57</td>\n",
              "      <td>2006</td>\n",
              "      <td>16</td>\n",
              "      <td>9</td>\n",
              "      <td>Scholastic Inc.</td>\n",
              "      <td>5:1546466</td>\n",
              "      <td>4:556485</td>\n",
              "      <td>3:159960</td>\n",
              "      <td>2:25317</td>\n",
              "      <td>1:9896</td>\n",
              "      <td>total:2298124</td>\n",
              "      <td>28062</td>\n",
              "      <td>eng</td>\n",
              "      <td>652</td>\n",
              "      <td>NaN</td>\n",
              "      <td>NaN</td>\n",
              "      <td>NaN</td>\n",
              "    </tr>\n",
              "    <tr>\n",
              "      <th>2</th>\n",
              "      <td>Harry Potter and the Order of the Phoenix (Har...</td>\n",
              "      <td>J.K. Rowling</td>\n",
              "      <td>0439358078</td>\n",
              "      <td>4.50</td>\n",
              "      <td>2004</td>\n",
              "      <td>1</td>\n",
              "      <td>9</td>\n",
              "      <td>Scholastic Inc.</td>\n",
              "      <td>5:1493113</td>\n",
              "      <td>4:604283</td>\n",
              "      <td>3:211781</td>\n",
              "      <td>2:37005</td>\n",
              "      <td>1:12455</td>\n",
              "      <td>total:2358637</td>\n",
              "      <td>29770</td>\n",
              "      <td>eng</td>\n",
              "      <td>870</td>\n",
              "      <td>NaN</td>\n",
              "      <td>NaN</td>\n",
              "      <td>NaN</td>\n",
              "    </tr>\n",
              "    <tr>\n",
              "      <th>3</th>\n",
              "      <td>Harry Potter and the Sorcerer's Stone (Harry P...</td>\n",
              "      <td>J.K. Rowling</td>\n",
              "      <td>NaN</td>\n",
              "      <td>4.47</td>\n",
              "      <td>2003</td>\n",
              "      <td>1</td>\n",
              "      <td>11</td>\n",
              "      <td>Scholastic Inc</td>\n",
              "      <td>5:4268227</td>\n",
              "      <td>4:1513191</td>\n",
              "      <td>3:567458</td>\n",
              "      <td>2:130310</td>\n",
              "      <td>1:108202</td>\n",
              "      <td>total:6587388</td>\n",
              "      <td>75911</td>\n",
              "      <td>eng</td>\n",
              "      <td>309</td>\n",
              "      <td>NaN</td>\n",
              "      <td>NaN</td>\n",
              "      <td>NaN</td>\n",
              "    </tr>\n",
              "    <tr>\n",
              "      <th>4</th>\n",
              "      <td>Harry Potter and the Chamber of Secrets (Harry...</td>\n",
              "      <td>J.K. Rowling</td>\n",
              "      <td>0439554896</td>\n",
              "      <td>4.42</td>\n",
              "      <td>2003</td>\n",
              "      <td>1</td>\n",
              "      <td>11</td>\n",
              "      <td>Scholastic</td>\n",
              "      <td>5:1504505</td>\n",
              "      <td>4:706082</td>\n",
              "      <td>3:288821</td>\n",
              "      <td>2:49353</td>\n",
              "      <td>1:11896</td>\n",
              "      <td>total:2560657</td>\n",
              "      <td>244</td>\n",
              "      <td>eng</td>\n",
              "      <td>352</td>\n",
              "      <td>NaN</td>\n",
              "      <td>NaN</td>\n",
              "      <td>NaN</td>\n",
              "    </tr>\n",
              "    <tr>\n",
              "      <th>5</th>\n",
              "      <td>Harry Potter and the Prisoner of Azkaban (Harr...</td>\n",
              "      <td>J.K. Rowling</td>\n",
              "      <td>043965548X</td>\n",
              "      <td>4.57</td>\n",
              "      <td>2004</td>\n",
              "      <td>1</td>\n",
              "      <td>5</td>\n",
              "      <td>Scholastic Inc.</td>\n",
              "      <td>5:1749958</td>\n",
              "      <td>4:630534</td>\n",
              "      <td>3:194848</td>\n",
              "      <td>2:24849</td>\n",
              "      <td>1:10128</td>\n",
              "      <td>total:2610317</td>\n",
              "      <td>37093</td>\n",
              "      <td>eng</td>\n",
              "      <td>435</td>\n",
              "      <td>NaN</td>\n",
              "      <td>NaN</td>\n",
              "      <td>NaN</td>\n",
              "    </tr>\n",
              "  </tbody>\n",
              "</table>\n",
              "</div>"
            ]
          },
          "metadata": {},
          "execution_count": 12
        }
      ]
    },
    {
      "cell_type": "code",
      "metadata": {
        "id": "Y0vXtlAqPTjG"
      },
      "source": [
        "books.dropna(subset = ['Description'], inplace = True)"
      ],
      "execution_count": 13,
      "outputs": []
    },
    {
      "cell_type": "code",
      "metadata": {
        "colab": {
          "base_uri": "https://localhost:8080/"
        },
        "id": "Vw0aeY2DPeLs",
        "outputId": "666a5277-3b33-492a-d3f2-ba4c03fd72d6"
      },
      "source": [
        "# check to see if succesful\n",
        "books.Description.isnull().sum()"
      ],
      "execution_count": 14,
      "outputs": [
        {
          "output_type": "execute_result",
          "data": {
            "text/plain": [
              "0"
            ]
          },
          "metadata": {},
          "execution_count": 14
        }
      ]
    },
    {
      "cell_type": "markdown",
      "metadata": {
        "id": "5w2wrWlOawpv"
      },
      "source": [
        "### Data Visualization: \n"
      ]
    },
    {
      "cell_type": "markdown",
      "metadata": {
        "id": "STLKpFFfbdgs"
      },
      "source": [
        "#### Top 10 Publishers:\n",
        "- Springer Publishing is an American publishing company of academic journals and books, focusing on the fields of nursing, gerontology, psychology, social work, counseling, public health, and rehabilitation. Wikipedia\n",
        "- Routledge is a British multinational publisher. It was founded in 1836 by George Routledge, and specialises in providing academic books, journals and online resources in the fields of humanities, behavioural science, education, law, and social science. Wikipedia\n",
        "- Peter Lang is an academic publisher specializing in the humanities and social sciences. It has its headquarters in Pieterlen and Bern, Switzerland, with offices in Brussels, Frankfurt am Main, New York City, Dublin, Oxford, Vienna, and Warsaw. Wikipedia\n",
        "- The CRC Press, LLC is an American publishing group that specializes in producing technical books. Many of their books relate to engineering, science and mathematics. Their scope also includes books on business, forensics and information technology. Wikipedia\n",
        "- John Wiley & Sons, Inc., commonly known as Wiley, is an American multinational publishing company founded in 1807 that focuses on academic publishing and instructional materials. Wikipedia\n",
        "\n",
        "\n",
        "... with the exception of iUniverse and Kessinger Press, all the publishing houses mentioned are academic. My plan is to keep only the books published by the top 8 academic publishing houses, and drop everything else. Then, sorting in descending order by popularity (measured by number of reviews), I take the top 20,000 books to become part of the final dataset. "
      ]
    },
    {
      "cell_type": "code",
      "metadata": {
        "colab": {
          "base_uri": "https://localhost:8080/",
          "height": 595
        },
        "id": "vjcr9DiwavWm",
        "outputId": "229b8ca3-d91b-4ebf-ef6d-ba7967e2d31e"
      },
      "source": [
        "books['Publisher'].value_counts()[0 : 10].plot(kind = 'barh', figsize = [8,10],fontsize=12, color='navy').invert_yaxis()"
      ],
      "execution_count": 15,
      "outputs": [
        {
          "output_type": "display_data",
          "data": {
            "text/plain": [
              "<Figure size 576x720 with 1 Axes>"
            ],
            "image/png": "[encoded data removed]"
          },
          "metadata": {
            "needs_background": "light"
          }
        }
      ]
    },
    {
      "cell_type": "code",
      "metadata": {
        "id": "mVlbOvCmmRM2"
      },
      "source": [
        "\n",
        "# find the top 8 academic publishing houses (so not  iUniverse and Kessinger Publishing)\n",
        "books['Publisher'].value_counts()[:8]\n",
        "top_8_publishers = ['Springer', 'Routledge', 'Cambridge University Press', \n",
        "                           'Oxford University Press, USA', 'Peter Lang Gmbh, Internationaler Verlag Der Wissenschaften', \n",
        "                           'CRC Press', 'Wiley', 'Prentice Hall']\n",
        "\n",
        "\n",
        "# make seperate dataframes for each publishing house\n",
        "Springer = books.loc[books['Publisher'] == top_8_publishers[0]]\n",
        "Routledge = books.loc[books['Publisher'] == top_8_publishers[1]]\n",
        "Cambridge = books.loc[books['Publisher'] == top_8_publishers[2]]\n",
        "Oxford = books.loc[books['Publisher'] == top_8_publishers[3]]\n",
        "Peter_lang = books.loc[books['Publisher'] == top_8_publishers[4]]\n",
        "CRC_Press = books.loc[books['Publisher'] == top_8_publishers[5]]\n",
        "Wiley = books.loc[books['Publisher'] == top_8_publishers[6]]\n",
        "Prentice_Hall = books.loc[books['Publisher'] == top_8_publishers[7]]\n",
        "\n",
        "df_list = [Springer, Routledge, Cambridge, Oxford, Peter_lang, CRC_Press, Wiley, Prentice_Hall]\n",
        "\n",
        "\n",
        "top_books = pd.DataFrame()\n",
        "# sort books by popularity (popularity measured by CountsOfReview) for each df\n",
        "for df in df_list:\n",
        "  df.sort_values(by = ['CountsOfReview'], ascending = False, inplace = True)\n",
        "  df.reset_index(inplace= True)\n",
        "  # merge top 1,250 books of each df into a new df: top_books\n",
        "  top_books = top_books.append(df[:1250])\n",
        "top_books.reset_index(inplace= True)"
      ],
      "execution_count": 26,
      "outputs": []
    },
    {
      "cell_type": "markdown",
      "metadata": {
        "id": "UxMFS-o459El"
      },
      "source": [
        "## Data preprocessing\n",
        "\n",
        "using regex,nltk and beautifulsoup\n",
        "- convert all text to lowercase \n",
        "- remove white space from description\n",
        "- remove punctuation from description\n",
        "- remove all links\n",
        "- remove stop words from description\n",
        "- lemmatize words in description (convert all words to their root)\n",
        "\n",
        "TIPS: make a copy of the dataframe because you WILL inevitably mess up with regex and have to rerun everything. \n"
      ]
    },
    {
      "cell_type": "code",
      "metadata": {
        "id": "KmksZEEwREoc"
      },
      "source": [
        "# make a copy of the dataframe for when I inevitably will mess up\n",
        "df = pd.DataFrame()\n",
        "df['Description'] = top_books['Description']"
      ],
      "execution_count": 31,
      "outputs": []
    },
    {
      "cell_type": "code",
      "metadata": {
        "id": "WIZInzmcqhpK"
      },
      "source": [
        "# remove html tags\n",
        "\n",
        "from bs4 import BeautifulSoup\n",
        "\n",
        "def remove_html_tags(df):\n",
        "  for index, row in df.iterrows():\n",
        "    text = df['Description'][index]\n",
        "    soup = BeautifulSoup(text, \"html.parser\")\n",
        "    for data in soup([['style', 'script']]):\n",
        "      data.decompose()\n",
        "    cleaned = ' '.join(soup.stripped_strings)\n",
        "    df['Description'][index] = cleaned\n",
        "  return df\n",
        "\n",
        "df = remove_html_tags(df)\n"
      ],
      "execution_count": 32,
      "outputs": []
    },
    {
      "cell_type": "code",
      "metadata": {
        "id": "_S4f4xY6Lgvq"
      },
      "source": [
        "# remove punctuation\n",
        "df['Description'] = df['Description'].str.replace('[^\\w\\s]','')\n"
      ],
      "execution_count": 33,
      "outputs": []
    },
    {
      "cell_type": "code",
      "metadata": {
        "id": "Or8VDLflSbD0",
        "colab": {
          "base_uri": "https://localhost:8080/"
        },
        "outputId": "61230fe2-0036-4fdb-8683-3859c5235c8d"
      },
      "source": [
        "punctuation_removed_test = df['Description'][4]\n",
        "print(\"original description: \", top_books['Description'][4], '\\n')\n",
        "print(\"punctuation removed: \", punctuation_removed_test)"
      ],
      "execution_count": 34,
      "outputs": [
        {
          "output_type": "stream",
          "name": "stdout",
          "text": [
            "original description:  This text provides examples from contemporary and historical scientific presentations to show clearly what makes an oral presentation effective. It considers presentations made to persuade an audience to adopt some course of action (such as funding a proposal) as well as presentations made to communicate information, and it considers these from four perspectives: speech, structure, visual aids, and delivery. \n",
            "\n",
            "punctuation removed:  This text provides examples from contemporary and historical scientific presentations to show clearly what makes an oral presentation effective It considers presentations made to persuade an audience to adopt some course of action such as funding a proposal as well as presentations made to communicate information and it considers these from four perspectives speech structure visual aids and delivery\n"
          ]
        }
      ]
    },
    {
      "cell_type": "code",
      "metadata": {
        "id": "aGT0VFZOT_9U"
      },
      "source": [
        "# remove stop words\n",
        "stop = stopwords.words('english')\n",
        "df['Description'] = df['Description'].astype(str).apply(lambda x: \" \".join(x for x in x.split() if x not in stop))\n"
      ],
      "execution_count": 35,
      "outputs": []
    },
    {
      "cell_type": "code",
      "metadata": {
        "id": "cCladVtH4gB_",
        "colab": {
          "base_uri": "https://localhost:8080/"
        },
        "outputId": "29a92740-7b19-4385-fb60-5200ab5d5eb3"
      },
      "source": [
        "stopwords_removed_test = df['Description'][14]\n",
        "print(\"o.g: \", top_books['Description'][14])\n",
        "print(\"stopwords_removed_test: \", stopwords_removed_test)"
      ],
      "execution_count": 36,
      "outputs": [
        {
          "output_type": "stream",
          "name": "stdout",
          "text": [
            "o.g:  At last, Raymond Calvel's Le Gout du Pain is available in English, translated by Ronald Wirtz. Mr. Calvel is known throughout the world for his research on the production of quality French and European hearth breads.<br /><br />The Taste of Bread is a thorough guide to the elements and principles behind the production of good-tasting bread, including a broad variety of bread products as flavored breads, breadsticks, croissants, brioches, and other regional baked goods. Each important aspect of the process is covered:<br /><br />wheat and milling<br />characteristics of breadmaking flour<br />dough composition<br />oxidation in the mixing process<br />leavening and fermentation<br />effects of dough division and formation<br />baking and equipment<br />storage<br /><br />The English edition provides notes and information specifically on the use of North American flours and includes recipes in both metric and US units. Enhanced with new black-and-white and color photography, The Taste of Bread will be a key resource for bakers and other culinary professionals and students who must understand the complex elements that yield quality breads.\n",
            "stopwords_removed_test:  At last Raymond Calvels Le Gout du Pain available English translated Ronald Wirtz Mr Calvel known throughout world research production quality French European hearth breads The Taste Bread thorough guide elements principles behind production goodtasting bread including broad variety bread products flavored breads breadsticks croissants brioches regional baked goods Each important aspect process covered wheat milling characteristics breadmaking flour dough composition oxidation mixing process leavening fermentation effects dough division formation baking equipment storage The English edition provides notes information specifically use North American flours includes recipes metric US units Enhanced new blackandwhite color photography The Taste Bread key resource bakers culinary professionals students must understand complex elements yield quality breads\n"
          ]
        }
      ]
    },
    {
      "cell_type": "code",
      "metadata": {
        "id": "sRBoKIRwUUjO"
      },
      "source": [
        "# convert text to lowercase\n",
        "df['Description'] = df['Description'].astype(str).str.lower() "
      ],
      "execution_count": 37,
      "outputs": []
    },
    {
      "cell_type": "code",
      "metadata": {
        "id": "vRCyOWBPUdyO",
        "colab": {
          "base_uri": "https://localhost:8080/"
        },
        "outputId": "5d7d78e7-bea7-4933-9cdc-32fcdfd59a3b"
      },
      "source": [
        "lowercase_conversion_test = df['Description'][100]\n",
        "print(\"o.g: \", top_books['Description'][100], '\\n')\n",
        "print(\"lowercase test: \", lowercase_conversion_test)"
      ],
      "execution_count": 38,
      "outputs": [
        {
          "output_type": "stream",
          "name": "stdout",
          "text": [
            "o.g:  In the summer and autumn of 2006 I read several interviews with Brian May in which he mentioned his desire to complete the PhD that he had abandoned in 1974. I looked up the papers he had published while a PhD student, which were on spectroscopic studies of the motion of the dust responsible for the zodiacal light, and felt that there was a basis for a thesis. Since he had been a student at Imperial, I knew, as Head of the Astrophysics Group at Imperial, that it would be good for the Group if he came and worked with us. I got in touch with him by email and suggested he come and talk about it. He replied enthusiastically and said that he was working on typing up what he had completed by 1974. I gradually realized that I was the only staff member at Imperial who had previously worked on zodiacal dust, so that I would have to act as his supervisor. Eventually we met and I tried to assess whether he would be able to find time for the huge amount of work that finishing off a thesis involves, particularly if it has not been touched for over 30 years. Since some of Brian's emails were coming from the recording studio I knew there was strong competition for his time. \n",
            "\n",
            "lowercase test:  in summer autumn 2006 i read several interviews brian may mentioned desire complete phd abandoned 1974 i looked papers published phd student spectroscopic studies motion dust responsible zodiacal light felt basis thesis since student imperial i knew head astrophysics group imperial would good group came worked us i got touch email suggested come talk he replied enthusiastically said working typing completed 1974 i gradually realized i staff member imperial previously worked zodiacal dust i would act supervisor eventually met i tried assess whether would able find time huge amount work finishing thesis involves particularly touched 30 years since brians emails coming recording studio i knew strong competition time\n"
          ]
        }
      ]
    },
    {
      "cell_type": "code",
      "metadata": {
        "id": "8W6wq8zPUq6S"
      },
      "source": [
        "# lemmatizing - convert all words to their root. This will take some time.\n",
        "\n",
        "nltk.download('wordnet')\n",
        "df['Description'] = df['Description'].apply(lambda x: \" \".join([Word(word).lemmatize() for word in x.split()]))\n",
        "df['Description'].head()"
      ],
      "execution_count": null,
      "outputs": []
    },
    {
      "cell_type": "code",
      "metadata": {
        "id": "nCSIgTfqW-UZ",
        "colab": {
          "base_uri": "https://localhost:8080/"
        },
        "outputId": "d3a3ee2d-17c9-4270-c876-1a552ff2ad45"
      },
      "source": [
        "lemmatized_test = df['Description'][800]\n",
        "print(\"o.g: \", top_books['Description'][800], '\\n')\n",
        "print(\"lemmatized test: \", lemmatized_test)\n"
      ],
      "execution_count": 39,
      "outputs": [
        {
          "output_type": "stream",
          "name": "stdout",
          "text": [
            "o.g:  This work sounds an early warning about an environmental catastrophe that has become all too familiar today - the invasion of nonnative species. The author explains the devastating effects that invasive species can have on local ecosystems. \n",
            "\n",
            "lemmatized test:  this work sounds early warning environmental catastrophe become familiar today invasion nonnative species the author explains devastating effects invasive species local ecosystems\n"
          ]
        }
      ]
    },
    {
      "cell_type": "code",
      "metadata": {
        "id": "Si-hW1ytXKMg",
        "colab": {
          "base_uri": "https://localhost:8080/"
        },
        "outputId": "1f5223a7-aa17-4ee7-c0b6-be828e3e4632"
      },
      "source": [
        "# make sure df, the dataframe copy, is still intact\n",
        "df['Description']"
      ],
      "execution_count": 40,
      "outputs": [
        {
          "output_type": "execute_result",
          "data": {
            "text/plain": [
              "0       between 1968 1972 twenty four daring men journ...\n",
              "1       this edition organized six parts theoretical c...\n",
              "2       this book already translated ten languages may...\n",
              "3       this book outlines elementary onesemester cour...\n",
              "4       this text provides examples contemporary histo...\n",
              "                              ...                        \n",
              "9995    to equip prospective educational leaders under...\n",
              "9996    headed bestseller lists fall allnew advice tur...\n",
              "9997    this innovative text simplifies process choosi...\n",
              "9998    the linux az guides computer literate student ...\n",
              "9999    designed improve skills assessing managing ext...\n",
              "Name: Description, Length: 10000, dtype: object"
            ]
          },
          "metadata": {},
          "execution_count": 40
        }
      ]
    },
    {
      "cell_type": "code",
      "metadata": {
        "id": "RV2IItw2XPZo",
        "colab": {
          "base_uri": "https://localhost:8080/",
          "height": 1000
        },
        "outputId": "ae6c95f7-e534-4923-f242-539d34b613bf"
      },
      "source": [
        "# now replace books['Description'] with the cleaned df['Description']\n",
        "# actually to play it safe ... make a new column.  \n",
        "top_books['Description_cleaned'] = df['Description']\n",
        "top_books"
      ],
      "execution_count": 57,
      "outputs": [
        {
          "output_type": "execute_result",
          "data": {
            "text/plain": [
              "      level_0    index                                               Name  \\\n",
              "0           0  2323178                        How Apollo Flew to the Moon   \n",
              "1           1  3216708                        Concise Inorganic Chemistry   \n",
              "2           2  3224638    The Buzz about Bees: Biology of a Superorganism   \n",
              "3           3   845794                             Understanding Analysis   \n",
              "4           4   874421  The Craft of Scientific Presentations: Critica...   \n",
              "...       ...      ...                                                ...   \n",
              "9995     1245  3236938  Practicing the Art of Leadership: A Problem-Ba...   \n",
              "9996     1246  3236155         Sylvia Porter's Your Finances in the 1990s   \n",
              "9997     1247  3235748  Selecting a College Major: Exploration and Dec...   \n",
              "9998     1248  3229391  The Linux A-Z: A Complete Guide to Linux for A...   \n",
              "9999     1249  3221947  Managing the International Business Environmen...   \n",
              "\n",
              "                     Authors        ISBN  Rating PublishYear PublishMonth  \\\n",
              "0             W. David Woods  0387716750    4.63        2008            1   \n",
              "1                   J.D. Lee  0412788209    4.08        1996           12   \n",
              "2               Jürgen Tautz  3540787275    4.54        2008            8   \n",
              "3             Stephen Abbott  0387950605    4.34        2002           12   \n",
              "4              Michael Alley  0387955550    3.91        2007            1   \n",
              "...                      ...         ...     ...         ...          ...   \n",
              "9995     Reginald Leon Green  0131599739    3.55        2008            2   \n",
              "9996     Sylvia Field Porter  0138797765    0.00        1990           10   \n",
              "9997      Virginia N. Gordon  0130395854    3.00        2003            2   \n",
              "9998           Philip Cornes  0132347091    4.00        1996           10   \n",
              "9999  Charles R. Kennedy Jr.  0135470927    5.00        1991            1   \n",
              "\n",
              "     PublishDay      Publisher  ... RatingDist1 RatingDistTotal  \\\n",
              "0             8       Springer  ...         1:2       total:399   \n",
              "1            15       Springer  ...        1:27       total:370   \n",
              "2             1       Springer  ...         1:0       total:141   \n",
              "3             7       Springer  ...         1:4       total:226   \n",
              "4             8       Springer  ...         1:1        total:89   \n",
              "...         ...            ...  ...         ...             ...   \n",
              "9995          1  Prentice Hall  ...         1:0        total:22   \n",
              "9996          1  Prentice Hall  ...         1:0         total:0   \n",
              "9997         14  Prentice Hall  ...         1:1         total:4   \n",
              "9998         31  Prentice Hall  ...         1:0         total:1   \n",
              "9999          1  Prentice Hall  ...         1:0         total:1   \n",
              "\n",
              "     CountsOfReview Language pagesNumber  \\\n",
              "0                33      eng         NaN   \n",
              "1                17      NaN         NaN   \n",
              "2                15      NaN         NaN   \n",
              "3                15      NaN         260   \n",
              "4                10      NaN         241   \n",
              "...             ...      ...         ...   \n",
              "9995              0      NaN         NaN   \n",
              "9996              0      NaN         NaN   \n",
              "9997              0      NaN         NaN   \n",
              "9998              0      NaN         NaN   \n",
              "9999              0      NaN         NaN   \n",
              "\n",
              "                                            Description Count of text reviews  \\\n",
              "0     Between 1968 and 1972, twenty four daring men ...                   NaN   \n",
              "1     This edition is organized into six parts: theo...                   NaN   \n",
              "2     This book, already translated into ten languag...                   NaN   \n",
              "3     This book outlines an elementary, one-semester...                    15   \n",
              "4     This text provides examples from contemporary ...                    10   \n",
              "...                                                 ...                   ...   \n",
              "9995  To equip prospective educational leaders to un...                   NaN   \n",
              "9996  Headed for bestseller lists this fall: all-new...                   NaN   \n",
              "9997  This innovative text simplifies the process of...                   NaN   \n",
              "9998  The LINUX A-Z guides the computer literate stu...                   NaN   \n",
              "9999  Designed to improve skills at assessing and ma...                   NaN   \n",
              "\n",
              "     PagesNumber                                Description_cleaned  \\\n",
              "0          412.0  between 1968 1972 twenty four daring men journ...   \n",
              "1         1032.0  this edition organized six parts theoretical c...   \n",
              "2          284.0  this book already translated ten languages may...   \n",
              "3            NaN  this book outlines elementary onesemester cour...   \n",
              "4            NaN  this text provides examples contemporary histo...   \n",
              "...          ...                                                ...   \n",
              "9995       266.0  to equip prospective educational leaders under...   \n",
              "9996       346.0  headed bestseller lists fall allnew advice tur...   \n",
              "9997       107.0  this innovative text simplifies process choosi...   \n",
              "9998       576.0  the linux az guides computer literate student ...   \n",
              "9999       279.0  designed improve skills assessing managing ext...   \n",
              "\n",
              "                                                   text  \n",
              "0     W. David Woods Springer between 1968 1972 twen...  \n",
              "1     J.D. Lee Springer this edition organized six p...  \n",
              "2     Jürgen Tautz Springer this book already transl...  \n",
              "3     Stephen Abbott Springer this book outlines ele...  \n",
              "4     Michael Alley Springer this text provides exam...  \n",
              "...                                                 ...  \n",
              "9995  Reginald Leon Green Prentice Hall to equip pro...  \n",
              "9996  Sylvia Field Porter Prentice Hall headed bests...  \n",
              "9997  Virginia N. Gordon Prentice Hall this innovati...  \n",
              "9998  Philip Cornes Prentice Hall the linux az guide...  \n",
              "9999  Charles R. Kennedy Jr. Prentice Hall designed ...  \n",
              "\n",
              "[10000 rows x 24 columns]"
            ],
            "text/html": [
              "<div>\n",
              "<style scoped>\n",
              "    .dataframe tbody tr th:only-of-type {\n",
              "        vertical-align: middle;\n",
              "    }\n",
              "\n",
              "    .dataframe tbody tr th {\n",
              "        vertical-align: top;\n",
              "    }\n",
              "\n",
              "    .dataframe thead th {\n",
              "        text-align: right;\n",
              "    }\n",
              "</style>\n",
              "<table border=\"1\" class=\"dataframe\">\n",
              "  <thead>\n",
              "    <tr style=\"text-align: right;\">\n",
              "      <th></th>\n",
              "      <th>level_0</th>\n",
              "      <th>index</th>\n",
              "      <th>Name</th>\n",
              "      <th>Authors</th>\n",
              "      <th>ISBN</th>\n",
              "      <th>Rating</th>\n",
              "      <th>PublishYear</th>\n",
              "      <th>PublishMonth</th>\n",
              "      <th>PublishDay</th>\n",
              "      <th>Publisher</th>\n",
              "      <th>...</th>\n",
              "      <th>RatingDist1</th>\n",
              "      <th>RatingDistTotal</th>\n",
              "      <th>CountsOfReview</th>\n",
              "      <th>Language</th>\n",
              "      <th>pagesNumber</th>\n",
              "      <th>Description</th>\n",
              "      <th>Count of text reviews</th>\n",
              "      <th>PagesNumber</th>\n",
              "      <th>Description_cleaned</th>\n",
              "      <th>text</th>\n",
              "    </tr>\n",
              "  </thead>\n",
              "  <tbody>\n",
              "    <tr>\n",
              "      <th>0</th>\n",
              "      <td>0</td>\n",
              "      <td>2323178</td>\n",
              "      <td>How Apollo Flew to the Moon</td>\n",
              "      <td>W. David Woods</td>\n",
              "      <td>0387716750</td>\n",
              "      <td>4.63</td>\n",
              "      <td>2008</td>\n",
              "      <td>1</td>\n",
              "      <td>8</td>\n",
              "      <td>Springer</td>\n",
              "      <td>...</td>\n",
              "      <td>1:2</td>\n",
              "      <td>total:399</td>\n",
              "      <td>33</td>\n",
              "      <td>eng</td>\n",
              "      <td>NaN</td>\n",
              "      <td>Between 1968 and 1972, twenty four daring men ...</td>\n",
              "      <td>NaN</td>\n",
              "      <td>412.0</td>\n",
              "      <td>between 1968 1972 twenty four daring men journ...</td>\n",
              "      <td>W. David Woods Springer between 1968 1972 twen...</td>\n",
              "    </tr>\n",
              "    <tr>\n",
              "      <th>1</th>\n",
              "      <td>1</td>\n",
              "      <td>3216708</td>\n",
              "      <td>Concise Inorganic Chemistry</td>\n",
              "      <td>J.D. Lee</td>\n",
              "      <td>0412788209</td>\n",
              "      <td>4.08</td>\n",
              "      <td>1996</td>\n",
              "      <td>12</td>\n",
              "      <td>15</td>\n",
              "      <td>Springer</td>\n",
              "      <td>...</td>\n",
              "      <td>1:27</td>\n",
              "      <td>total:370</td>\n",
              "      <td>17</td>\n",
              "      <td>NaN</td>\n",
              "      <td>NaN</td>\n",
              "      <td>This edition is organized into six parts: theo...</td>\n",
              "      <td>NaN</td>\n",
              "      <td>1032.0</td>\n",
              "      <td>this edition organized six parts theoretical c...</td>\n",
              "      <td>J.D. Lee Springer this edition organized six p...</td>\n",
              "    </tr>\n",
              "    <tr>\n",
              "      <th>2</th>\n",
              "      <td>2</td>\n",
              "      <td>3224638</td>\n",
              "      <td>The Buzz about Bees: Biology of a Superorganism</td>\n",
              "      <td>Jürgen Tautz</td>\n",
              "      <td>3540787275</td>\n",
              "      <td>4.54</td>\n",
              "      <td>2008</td>\n",
              "      <td>8</td>\n",
              "      <td>1</td>\n",
              "      <td>Springer</td>\n",
              "      <td>...</td>\n",
              "      <td>1:0</td>\n",
              "      <td>total:141</td>\n",
              "      <td>15</td>\n",
              "      <td>NaN</td>\n",
              "      <td>NaN</td>\n",
              "      <td>This book, already translated into ten languag...</td>\n",
              "      <td>NaN</td>\n",
              "      <td>284.0</td>\n",
              "      <td>this book already translated ten languages may...</td>\n",
              "      <td>Jürgen Tautz Springer this book already transl...</td>\n",
              "    </tr>\n",
              "    <tr>\n",
              "      <th>3</th>\n",
              "      <td>3</td>\n",
              "      <td>845794</td>\n",
              "      <td>Understanding Analysis</td>\n",
              "      <td>Stephen Abbott</td>\n",
              "      <td>0387950605</td>\n",
              "      <td>4.34</td>\n",
              "      <td>2002</td>\n",
              "      <td>12</td>\n",
              "      <td>7</td>\n",
              "      <td>Springer</td>\n",
              "      <td>...</td>\n",
              "      <td>1:4</td>\n",
              "      <td>total:226</td>\n",
              "      <td>15</td>\n",
              "      <td>NaN</td>\n",
              "      <td>260</td>\n",
              "      <td>This book outlines an elementary, one-semester...</td>\n",
              "      <td>15</td>\n",
              "      <td>NaN</td>\n",
              "      <td>this book outlines elementary onesemester cour...</td>\n",
              "      <td>Stephen Abbott Springer this book outlines ele...</td>\n",
              "    </tr>\n",
              "    <tr>\n",
              "      <th>4</th>\n",
              "      <td>4</td>\n",
              "      <td>874421</td>\n",
              "      <td>The Craft of Scientific Presentations: Critica...</td>\n",
              "      <td>Michael Alley</td>\n",
              "      <td>0387955550</td>\n",
              "      <td>3.91</td>\n",
              "      <td>2007</td>\n",
              "      <td>1</td>\n",
              "      <td>8</td>\n",
              "      <td>Springer</td>\n",
              "      <td>...</td>\n",
              "      <td>1:1</td>\n",
              "      <td>total:89</td>\n",
              "      <td>10</td>\n",
              "      <td>NaN</td>\n",
              "      <td>241</td>\n",
              "      <td>This text provides examples from contemporary ...</td>\n",
              "      <td>10</td>\n",
              "      <td>NaN</td>\n",
              "      <td>this text provides examples contemporary histo...</td>\n",
              "      <td>Michael Alley Springer this text provides exam...</td>\n",
              "    </tr>\n",
              "    <tr>\n",
              "      <th>...</th>\n",
              "      <td>...</td>\n",
              "      <td>...</td>\n",
              "      <td>...</td>\n",
              "      <td>...</td>\n",
              "      <td>...</td>\n",
              "      <td>...</td>\n",
              "      <td>...</td>\n",
              "      <td>...</td>\n",
              "      <td>...</td>\n",
              "      <td>...</td>\n",
              "      <td>...</td>\n",
              "      <td>...</td>\n",
              "      <td>...</td>\n",
              "      <td>...</td>\n",
              "      <td>...</td>\n",
              "      <td>...</td>\n",
              "      <td>...</td>\n",
              "      <td>...</td>\n",
              "      <td>...</td>\n",
              "      <td>...</td>\n",
              "      <td>...</td>\n",
              "    </tr>\n",
              "    <tr>\n",
              "      <th>9995</th>\n",
              "      <td>1245</td>\n",
              "      <td>3236938</td>\n",
              "      <td>Practicing the Art of Leadership: A Problem-Ba...</td>\n",
              "      <td>Reginald Leon Green</td>\n",
              "      <td>0131599739</td>\n",
              "      <td>3.55</td>\n",
              "      <td>2008</td>\n",
              "      <td>2</td>\n",
              "      <td>1</td>\n",
              "      <td>Prentice Hall</td>\n",
              "      <td>...</td>\n",
              "      <td>1:0</td>\n",
              "      <td>total:22</td>\n",
              "      <td>0</td>\n",
              "      <td>NaN</td>\n",
              "      <td>NaN</td>\n",
              "      <td>To equip prospective educational leaders to un...</td>\n",
              "      <td>NaN</td>\n",
              "      <td>266.0</td>\n",
              "      <td>to equip prospective educational leaders under...</td>\n",
              "      <td>Reginald Leon Green Prentice Hall to equip pro...</td>\n",
              "    </tr>\n",
              "    <tr>\n",
              "      <th>9996</th>\n",
              "      <td>1246</td>\n",
              "      <td>3236155</td>\n",
              "      <td>Sylvia Porter's Your Finances in the 1990s</td>\n",
              "      <td>Sylvia Field Porter</td>\n",
              "      <td>0138797765</td>\n",
              "      <td>0.00</td>\n",
              "      <td>1990</td>\n",
              "      <td>10</td>\n",
              "      <td>1</td>\n",
              "      <td>Prentice Hall</td>\n",
              "      <td>...</td>\n",
              "      <td>1:0</td>\n",
              "      <td>total:0</td>\n",
              "      <td>0</td>\n",
              "      <td>NaN</td>\n",
              "      <td>NaN</td>\n",
              "      <td>Headed for bestseller lists this fall: all-new...</td>\n",
              "      <td>NaN</td>\n",
              "      <td>346.0</td>\n",
              "      <td>headed bestseller lists fall allnew advice tur...</td>\n",
              "      <td>Sylvia Field Porter Prentice Hall headed bests...</td>\n",
              "    </tr>\n",
              "    <tr>\n",
              "      <th>9997</th>\n",
              "      <td>1247</td>\n",
              "      <td>3235748</td>\n",
              "      <td>Selecting a College Major: Exploration and Dec...</td>\n",
              "      <td>Virginia N. Gordon</td>\n",
              "      <td>0130395854</td>\n",
              "      <td>3.00</td>\n",
              "      <td>2003</td>\n",
              "      <td>2</td>\n",
              "      <td>14</td>\n",
              "      <td>Prentice Hall</td>\n",
              "      <td>...</td>\n",
              "      <td>1:1</td>\n",
              "      <td>total:4</td>\n",
              "      <td>0</td>\n",
              "      <td>NaN</td>\n",
              "      <td>NaN</td>\n",
              "      <td>This innovative text simplifies the process of...</td>\n",
              "      <td>NaN</td>\n",
              "      <td>107.0</td>\n",
              "      <td>this innovative text simplifies process choosi...</td>\n",
              "      <td>Virginia N. Gordon Prentice Hall this innovati...</td>\n",
              "    </tr>\n",
              "    <tr>\n",
              "      <th>9998</th>\n",
              "      <td>1248</td>\n",
              "      <td>3229391</td>\n",
              "      <td>The Linux A-Z: A Complete Guide to Linux for A...</td>\n",
              "      <td>Philip Cornes</td>\n",
              "      <td>0132347091</td>\n",
              "      <td>4.00</td>\n",
              "      <td>1996</td>\n",
              "      <td>10</td>\n",
              "      <td>31</td>\n",
              "      <td>Prentice Hall</td>\n",
              "      <td>...</td>\n",
              "      <td>1:0</td>\n",
              "      <td>total:1</td>\n",
              "      <td>0</td>\n",
              "      <td>NaN</td>\n",
              "      <td>NaN</td>\n",
              "      <td>The LINUX A-Z guides the computer literate stu...</td>\n",
              "      <td>NaN</td>\n",
              "      <td>576.0</td>\n",
              "      <td>the linux az guides computer literate student ...</td>\n",
              "      <td>Philip Cornes Prentice Hall the linux az guide...</td>\n",
              "    </tr>\n",
              "    <tr>\n",
              "      <th>9999</th>\n",
              "      <td>1249</td>\n",
              "      <td>3221947</td>\n",
              "      <td>Managing the International Business Environmen...</td>\n",
              "      <td>Charles R. Kennedy Jr.</td>\n",
              "      <td>0135470927</td>\n",
              "      <td>5.00</td>\n",
              "      <td>1991</td>\n",
              "      <td>1</td>\n",
              "      <td>1</td>\n",
              "      <td>Prentice Hall</td>\n",
              "      <td>...</td>\n",
              "      <td>1:0</td>\n",
              "      <td>total:1</td>\n",
              "      <td>0</td>\n",
              "      <td>NaN</td>\n",
              "      <td>NaN</td>\n",
              "      <td>Designed to improve skills at assessing and ma...</td>\n",
              "      <td>NaN</td>\n",
              "      <td>279.0</td>\n",
              "      <td>designed improve skills assessing managing ext...</td>\n",
              "      <td>Charles R. Kennedy Jr. Prentice Hall designed ...</td>\n",
              "    </tr>\n",
              "  </tbody>\n",
              "</table>\n",
              "<p>10000 rows × 24 columns</p>\n",
              "</div>"
            ]
          },
          "metadata": {},
          "execution_count": 57
        }
      ]
    },
    {
      "cell_type": "markdown",
      "metadata": {
        "id": "8SBba2dkZBCn"
      },
      "source": [
        "### Create the book corpus \n",
        "combine the author, published and cleaned description columns"
      ]
    },
    {
      "cell_type": "code",
      "metadata": {
        "id": "qf5C_1HRYnwv"
      },
      "source": [
        "top_books['text'] = top_books['Authors'].map(str) + ' ' + top_books['Publisher'] + ' ' + top_books['Description_cleaned']"
      ],
      "execution_count": 74,
      "outputs": []
    },
    {
      "cell_type": "code",
      "metadata": {
        "id": "TPe338A8ZY_O"
      },
      "source": [
        "books_corpus = top_books[['Name', 'ISBN','text']]\n",
        "books_corpus = books_corpus.fillna(\" \")\n",
        "books_corpus['text'] = books_corpus['text'].astype(str).str.lower() # convert everything to lowercase\n",
        "books_corpus['text'] = books_corpus['text'].str.replace('[^\\w\\s]','') # remove punctuation"
      ],
      "execution_count": 75,
      "outputs": []
    },
    {
      "cell_type": "code",
      "metadata": {
        "id": "YZkhtV1FaXWQ",
        "colab": {
          "base_uri": "https://localhost:8080/",
          "height": 419
        },
        "outputId": "dc1ef80f-84cb-41e8-a564-a9da435446df"
      },
      "source": [
        "books_corpus"
      ],
      "execution_count": 76,
      "outputs": [
        {
          "output_type": "execute_result",
          "data": {
            "text/plain": [
              "                                                   Name        ISBN  \\\n",
              "0                           How Apollo Flew to the Moon  0387716750   \n",
              "1                           Concise Inorganic Chemistry  0412788209   \n",
              "2       The Buzz about Bees: Biology of a Superorganism  3540787275   \n",
              "3                                Understanding Analysis  0387950605   \n",
              "4     The Craft of Scientific Presentations: Critica...  0387955550   \n",
              "...                                                 ...         ...   \n",
              "9995  Practicing the Art of Leadership: A Problem-Ba...  0131599739   \n",
              "9996         Sylvia Porter's Your Finances in the 1990s  0138797765   \n",
              "9997  Selecting a College Major: Exploration and Dec...  0130395854   \n",
              "9998  The Linux A-Z: A Complete Guide to Linux for A...  0132347091   \n",
              "9999  Managing the International Business Environmen...  0135470927   \n",
              "\n",
              "                                                   text  \n",
              "0     w david woods between 1968 1972 twenty four da...  \n",
              "1     jd lee this edition organized six parts theore...  \n",
              "2     jürgen tautz this book already translated ten ...  \n",
              "3     stephen abbott this book outlines elementary o...  \n",
              "4     michael alley this text provides examples cont...  \n",
              "...                                                 ...  \n",
              "9995  reginald leon green to equip prospective educa...  \n",
              "9996  sylvia field porter headed bestseller lists fa...  \n",
              "9997  virginia n gordon this innovative text simplif...  \n",
              "9998  philip cornes the linux az guides computer lit...  \n",
              "9999  charles r kennedy jr designed improve skills a...  \n",
              "\n",
              "[10000 rows x 3 columns]"
            ],
            "text/html": [
              "<div>\n",
              "<style scoped>\n",
              "    .dataframe tbody tr th:only-of-type {\n",
              "        vertical-align: middle;\n",
              "    }\n",
              "\n",
              "    .dataframe tbody tr th {\n",
              "        vertical-align: top;\n",
              "    }\n",
              "\n",
              "    .dataframe thead th {\n",
              "        text-align: right;\n",
              "    }\n",
              "</style>\n",
              "<table border=\"1\" class=\"dataframe\">\n",
              "  <thead>\n",
              "    <tr style=\"text-align: right;\">\n",
              "      <th></th>\n",
              "      <th>Name</th>\n",
              "      <th>ISBN</th>\n",
              "      <th>text</th>\n",
              "    </tr>\n",
              "  </thead>\n",
              "  <tbody>\n",
              "    <tr>\n",
              "      <th>0</th>\n",
              "      <td>How Apollo Flew to the Moon</td>\n",
              "      <td>0387716750</td>\n",
              "      <td>w david woods between 1968 1972 twenty four da...</td>\n",
              "    </tr>\n",
              "    <tr>\n",
              "      <th>1</th>\n",
              "      <td>Concise Inorganic Chemistry</td>\n",
              "      <td>0412788209</td>\n",
              "      <td>jd lee this edition organized six parts theore...</td>\n",
              "    </tr>\n",
              "    <tr>\n",
              "      <th>2</th>\n",
              "      <td>The Buzz about Bees: Biology of a Superorganism</td>\n",
              "      <td>3540787275</td>\n",
              "      <td>jürgen tautz this book already translated ten ...</td>\n",
              "    </tr>\n",
              "    <tr>\n",
              "      <th>3</th>\n",
              "      <td>Understanding Analysis</td>\n",
              "      <td>0387950605</td>\n",
              "      <td>stephen abbott this book outlines elementary o...</td>\n",
              "    </tr>\n",
              "    <tr>\n",
              "      <th>4</th>\n",
              "      <td>The Craft of Scientific Presentations: Critica...</td>\n",
              "      <td>0387955550</td>\n",
              "      <td>michael alley this text provides examples cont...</td>\n",
              "    </tr>\n",
              "    <tr>\n",
              "      <th>...</th>\n",
              "      <td>...</td>\n",
              "      <td>...</td>\n",
              "      <td>...</td>\n",
              "    </tr>\n",
              "    <tr>\n",
              "      <th>9995</th>\n",
              "      <td>Practicing the Art of Leadership: A Problem-Ba...</td>\n",
              "      <td>0131599739</td>\n",
              "      <td>reginald leon green to equip prospective educa...</td>\n",
              "    </tr>\n",
              "    <tr>\n",
              "      <th>9996</th>\n",
              "      <td>Sylvia Porter's Your Finances in the 1990s</td>\n",
              "      <td>0138797765</td>\n",
              "      <td>sylvia field porter headed bestseller lists fa...</td>\n",
              "    </tr>\n",
              "    <tr>\n",
              "      <th>9997</th>\n",
              "      <td>Selecting a College Major: Exploration and Dec...</td>\n",
              "      <td>0130395854</td>\n",
              "      <td>virginia n gordon this innovative text simplif...</td>\n",
              "    </tr>\n",
              "    <tr>\n",
              "      <th>9998</th>\n",
              "      <td>The Linux A-Z: A Complete Guide to Linux for A...</td>\n",
              "      <td>0132347091</td>\n",
              "      <td>philip cornes the linux az guides computer lit...</td>\n",
              "    </tr>\n",
              "    <tr>\n",
              "      <th>9999</th>\n",
              "      <td>Managing the International Business Environmen...</td>\n",
              "      <td>0135470927</td>\n",
              "      <td>charles r kennedy jr designed improve skills a...</td>\n",
              "    </tr>\n",
              "  </tbody>\n",
              "</table>\n",
              "<p>10000 rows × 3 columns</p>\n",
              "</div>"
            ]
          },
          "metadata": {},
          "execution_count": 76
        }
      ]
    },
    {
      "cell_type": "code",
      "metadata": {
        "id": "PKPg4Fa4cah9"
      },
      "source": [
        "# DONT FORGET TO SAVE THE CLEANED DATA\n",
        "compression_opts = dict(method='zip', archive_name='top_books.csv')  \n",
        "books_corpus.to_csv('top_books.zip', index=False, compression=compression_opts) "
      ],
      "execution_count": 77,
      "outputs": []
    },
    {
      "cell_type": "markdown",
      "metadata": {
        "id": "EG1lGo3UaqHm"
      },
      "source": [
        "## Time for TF-IDF"
      ]
    },
    {
      "cell_type": "code",
      "metadata": {
        "id": "zK7Ae27lB1M3",
        "colab": {
          "base_uri": "https://localhost:8080/",
          "height": 419
        },
        "outputId": "25953e34-b8ba-492d-ab0b-93b527183c31"
      },
      "source": [
        "import pandas as pd\n",
        "\n",
        "# load the cleaned dataset\n",
        "books_corpus = pd.read_csv('top_books 2.csv')\n",
        "books_corpus"
      ],
      "execution_count": 80,
      "outputs": [
        {
          "output_type": "execute_result",
          "data": {
            "text/plain": [
              "                                                   Name        ISBN  \\\n",
              "0                           How Apollo Flew to the Moon  0387716750   \n",
              "1                           Concise Inorganic Chemistry  0412788209   \n",
              "2       The Buzz about Bees: Biology of a Superorganism  3540787275   \n",
              "3                                Understanding Analysis  0387950605   \n",
              "4     The Craft of Scientific Presentations: Critica...  0387955550   \n",
              "...                                                 ...         ...   \n",
              "9995  Practicing the Art of Leadership: A Problem-Ba...  0131599739   \n",
              "9996         Sylvia Porter's Your Finances in the 1990s  0138797765   \n",
              "9997  Selecting a College Major: Exploration and Dec...  0130395854   \n",
              "9998  The Linux A-Z: A Complete Guide to Linux for A...  0132347091   \n",
              "9999  Managing the International Business Environmen...  0135470927   \n",
              "\n",
              "                                                   text  \n",
              "0     w david woods between 1968 1972 twenty four da...  \n",
              "1     jd lee this edition organized six parts theore...  \n",
              "2     jürgen tautz this book already translated ten ...  \n",
              "3     stephen abbott this book outlines elementary o...  \n",
              "4     michael alley this text provides examples cont...  \n",
              "...                                                 ...  \n",
              "9995  reginald leon green to equip prospective educa...  \n",
              "9996  sylvia field porter headed bestseller lists fa...  \n",
              "9997  virginia n gordon this innovative text simplif...  \n",
              "9998  philip cornes the linux az guides computer lit...  \n",
              "9999  charles r kennedy jr designed improve skills a...  \n",
              "\n",
              "[10000 rows x 3 columns]"
            ],
            "text/html": [
              "<div>\n",
              "<style scoped>\n",
              "    .dataframe tbody tr th:only-of-type {\n",
              "        vertical-align: middle;\n",
              "    }\n",
              "\n",
              "    .dataframe tbody tr th {\n",
              "        vertical-align: top;\n",
              "    }\n",
              "\n",
              "    .dataframe thead th {\n",
              "        text-align: right;\n",
              "    }\n",
              "</style>\n",
              "<table border=\"1\" class=\"dataframe\">\n",
              "  <thead>\n",
              "    <tr style=\"text-align: right;\">\n",
              "      <th></th>\n",
              "      <th>Name</th>\n",
              "      <th>ISBN</th>\n",
              "      <th>text</th>\n",
              "    </tr>\n",
              "  </thead>\n",
              "  <tbody>\n",
              "    <tr>\n",
              "      <th>0</th>\n",
              "      <td>How Apollo Flew to the Moon</td>\n",
              "      <td>0387716750</td>\n",
              "      <td>w david woods between 1968 1972 twenty four da...</td>\n",
              "    </tr>\n",
              "    <tr>\n",
              "      <th>1</th>\n",
              "      <td>Concise Inorganic Chemistry</td>\n",
              "      <td>0412788209</td>\n",
              "      <td>jd lee this edition organized six parts theore...</td>\n",
              "    </tr>\n",
              "    <tr>\n",
              "      <th>2</th>\n",
              "      <td>The Buzz about Bees: Biology of a Superorganism</td>\n",
              "      <td>3540787275</td>\n",
              "      <td>jürgen tautz this book already translated ten ...</td>\n",
              "    </tr>\n",
              "    <tr>\n",
              "      <th>3</th>\n",
              "      <td>Understanding Analysis</td>\n",
              "      <td>0387950605</td>\n",
              "      <td>stephen abbott this book outlines elementary o...</td>\n",
              "    </tr>\n",
              "    <tr>\n",
              "      <th>4</th>\n",
              "      <td>The Craft of Scientific Presentations: Critica...</td>\n",
              "      <td>0387955550</td>\n",
              "      <td>michael alley this text provides examples cont...</td>\n",
              "    </tr>\n",
              "    <tr>\n",
              "      <th>...</th>\n",
              "      <td>...</td>\n",
              "      <td>...</td>\n",
              "      <td>...</td>\n",
              "    </tr>\n",
              "    <tr>\n",
              "      <th>9995</th>\n",
              "      <td>Practicing the Art of Leadership: A Problem-Ba...</td>\n",
              "      <td>0131599739</td>\n",
              "      <td>reginald leon green to equip prospective educa...</td>\n",
              "    </tr>\n",
              "    <tr>\n",
              "      <th>9996</th>\n",
              "      <td>Sylvia Porter's Your Finances in the 1990s</td>\n",
              "      <td>0138797765</td>\n",
              "      <td>sylvia field porter headed bestseller lists fa...</td>\n",
              "    </tr>\n",
              "    <tr>\n",
              "      <th>9997</th>\n",
              "      <td>Selecting a College Major: Exploration and Dec...</td>\n",
              "      <td>0130395854</td>\n",
              "      <td>virginia n gordon this innovative text simplif...</td>\n",
              "    </tr>\n",
              "    <tr>\n",
              "      <th>9998</th>\n",
              "      <td>The Linux A-Z: A Complete Guide to Linux for A...</td>\n",
              "      <td>0132347091</td>\n",
              "      <td>philip cornes the linux az guides computer lit...</td>\n",
              "    </tr>\n",
              "    <tr>\n",
              "      <th>9999</th>\n",
              "      <td>Managing the International Business Environmen...</td>\n",
              "      <td>0135470927</td>\n",
              "      <td>charles r kennedy jr designed improve skills a...</td>\n",
              "    </tr>\n",
              "  </tbody>\n",
              "</table>\n",
              "<p>10000 rows × 3 columns</p>\n",
              "</div>"
            ]
          },
          "metadata": {},
          "execution_count": 80
        }
      ]
    },
    {
      "cell_type": "code",
      "metadata": {
        "id": "KcuXojgQatKC",
        "colab": {
          "base_uri": "https://localhost:8080/"
        },
        "outputId": "07e05cb5-2599-4dc9-c319-7a232565736b"
      },
      "source": [
        "#initializing tfidf vectorizer\n",
        "from sklearn.feature_extraction.text import TfidfVectorizer\n",
        "tfidf_vectorizer = TfidfVectorizer()\n",
        "tfidf_books = tfidf_vectorizer.fit_transform((books_corpus['text'][:10000])) \n",
        "tfidf_books"
      ],
      "execution_count": 81,
      "outputs": [
        {
          "output_type": "execute_result",
          "data": {
            "text/plain": [
              "<10000x83155 sparse matrix of type '<class 'numpy.float64'>'\n",
              "\twith 724676 stored elements in Compressed Sparse Row format>"
            ]
          },
          "metadata": {},
          "execution_count": 81
        }
      ]
    },
    {
      "cell_type": "markdown",
      "metadata": {
        "id": "-nyNNjJ_a4p0"
      },
      "source": [
        "## Build the recommendation system!\n",
        "\n",
        "- compute cosine similarity using tfidf\n",
        "- the recommendation function:\n",
        "\n",
        "    *    get index of the user inputted book title\n",
        "    *    search cosine similarity matrix, sorting the similarity values in descending order\n",
        "    * return a list of the top 5 most similar books\n",
        "    \n",
        "\n",
        "\n"
      ]
    },
    {
      "cell_type": "code",
      "metadata": {
        "id": "RkPeoJAobmDs"
      },
      "source": [
        "from sklearn.metrics.pairwise import cosine_similarity\n",
        "cosine_sim = cosine_similarity(tfidf_books)"
      ],
      "execution_count": 82,
      "outputs": []
    },
    {
      "cell_type": "code",
      "metadata": {
        "colab": {
          "base_uri": "https://localhost:8080/"
        },
        "id": "2EdTCgcIEdUJ",
        "outputId": "d04d372c-aeff-4eaf-e655-73734203a761"
      },
      "source": [
        "cosine_sim.shape"
      ],
      "execution_count": 83,
      "outputs": [
        {
          "output_type": "execute_result",
          "data": {
            "text/plain": [
              "(10000, 10000)"
            ]
          },
          "metadata": {},
          "execution_count": 83
        }
      ]
    },
    {
      "cell_type": "code",
      "metadata": {
        "id": "9KSo8Xvsb1RJ"
      },
      "source": [
        " indices = pd.Series(books_corpus['Name'])\n",
        "\n",
        " def recommend(title, cosine_sim = cosine_sim):\n",
        "    recommended_books = []\n",
        "    idx = indices[indices == title].index[0]\n",
        "    score_series = pd.Series(cosine_sim[idx]).sort_values(ascending = False)   # similarity scores in descending order\n",
        "    top_5_indices = list(score_series.iloc[1:6].index)   # to get the indices of top 10 most similar books\n",
        "    print(\"finding reccs for: \", title, \"Description : \", books_corpus['text'][idx])\n",
        "\n",
        "    for i in top_5_indices:   \n",
        "        recommended_books.append(list(books_corpus['Name'])[i])\n",
        "        print(books_corpus['Name'][i], \"Description : \", books_corpus['text'][i], '\\n') \n",
        "        # remember that the description has stop words and punctuation removed and printing it out is just \n",
        "        # for evaluation purposes\n",
        "    return recommended_books"
      ],
      "execution_count": 121,
      "outputs": []
    },
    {
      "cell_type": "code",
      "metadata": {
        "colab": {
          "base_uri": "https://localhost:8080/"
        },
        "id": "6aMmeLBfZd_e",
        "outputId": "70663fb3-cc37-42c3-93dc-585a3dde1dc2"
      },
      "source": [
        "recommend('The Buzz about Bees: Biology of a Superorganism')"
      ],
      "execution_count": 122,
      "outputs": [
        {
          "output_type": "stream",
          "name": "stdout",
          "text": [
            "finding reccs for:  The Buzz about Bees: Biology of a Superorganism Description :  jürgen tautz this book already translated ten languages may frst sight appear honeybees biology it contains however number deeper messages related basic important principles modern biology the bees merely actors take us realm physiology genetics reproduction biophysics learning introduce us principles natural selection underlying evolution simple complex life forms the book destroys cute notion bees anthropomorphic icons busy selfsacrificing individuals presents us reality colony integrated independent beinga superorganism almost eerie emergent group intelligence we surprised learn single bee queen drone sterile worker oversight control colony instead network integrated control systems feedbacks communication individuals colony arrives consensus decisions bottom type swarm intelligence indeed remarkable parallels functional organization swarming honeybee colony vertebrate brains\n",
            "Biology for Engineers Description :  arthur t johnson biology critical application area engineering analysis design students engineering programs must wellversed fundamentals biology relate field biology engineers introductory text minimizes unnecessary memorization connections classifications instead emphasizes concepts technology utilization living things whether students headed toward biorelated engineering degree one traditional majors biology important engineering students know living things work act classroomtested university maryland comprehensive text introduces concepts terminology needed understand advanced biology literature filled practical detailed examples book presents scientific principles relevant biology engineers must know a discussion biological responses perspective broad range fields psychology human factors genetics plant animal physiology imaging control systems actuary medicine a thorough examination scaling biological responses attributes a classification different types applications related biological systems tables useful information nearly impossible find elsewhere a series questions end chapter test comprehension emphasizing everpresent interactions biological unit physical chemical biological environments book provides ample instruction basics physics chemistry mathematics engineering it brings together concepts one needs understand role biology modern technology \n",
            "\n",
            "Evolution of Life Histories: Theory and Analysis Description :  derek a roff there many different types organisms world differ size physiology appearance life history the challenge evolutionary biology explain diversity arises the evolution life histories showing natural selection principal underlying force molding life history variation the book describes particular ways variation analyzed predicted it covers genetic optimization approaches life history analysis gives overview general framework life history theory mathematical tools predictions made tested factors affecting age schedule birth death costs reproduction discussed the evolution life histories concentrates theoretical developments tested experimentally it interest students professionals evolution evolutionary ecology mathematical theoretical biology zoology entomology \n",
            "\n",
            "Computational Intelligence: An Introduction Description :  andries p engelbrecht computational intelligence an introduction second edition offers indepth exploration adaptive mechanisms enable intelligent behaviour complex changing environments the main focus text centred computational modelling biological natural intelligent systems encompassing swarm intelligence fuzzy systems artificial neutral networks artificial immune systems evolutionary computation engelbrecht provides readers wide knowledge computational intelligence ci paradigms algorithms inviting readers implement problem solve realworld complex problems within ci development framework this implementation framework enable readers tackle new problems without difficulty single java class part ci library key features second edition include a tutorial handson based presentation material stateoftheart coverage recent developments computational intelligence elaborate discussions intelligence artificial intelligence ai new discussion darwinian evolution versus lamarckian evolution also including swarm robotics hybrid systems artificial immune systems a section perform empirical studies topics including statistical analysis stochastic algorithms open source library ci algorithms tables illustrations graphs examples assignments java code implementing algorithms complete ci implementation experimental framework computational intelligence an introduction second edition essential reading third fourth year undergraduate postgraduate students studying ci the first edition prescribed number overseas universities thus valuable teaching tool in addition also useful resource researchers computational intelligence artificial intelligence well engineers statisticians operational researchers bioinformaticians interest applying ai ci solve problems domains check http wwwcicsupacza examples assignments java code implementing algorithms \n",
            "\n",
            "Biochemistry & Molecular Biology of Plants Description :  russell l jones biochemistry molecular biology plants major contribution plant sciences literature superbly edited three distinguished scientists bob b buchanan wilhelm gruissem russell l jones contributions 50 worldrenowned scientists with 1400 pages 1100 fullcolour original drawings 500 photographs work qualifies words science reviewer essential reference practicing plant biologists increasing number scientists disciplines entering field plant biology to exploit fully wealth new information provided genome projects integrate metabolic regulatory signal transduction pathways complex organisms biologists require solid command biochemistry physiology for reason publication biochemistry molecular biology plants could come opportune auspicious time this book meticulously organised richly illustrated useful teaching reference the multiauthored work provides contemporary view subject including molecular biology cell biology plant physiology integrated around themes compartmentation cell reproduction energetics metabolism development read words reviewer cell the great strength book integrated three major components molecular biology cell biology plant biochemistry 24 chapters resulting comprehensive analysis multitude specific topics who buy spectacular text plant biologists scientists related fields professors departments plant biology plant biochemistry plant physiology related fields graduate upperlevel undergraduate students plant biology researchers pharmaceutical biotechnology agribusiness industries images available directly aspb web site http wwwaspborgpublicationsbiotext \n",
            "\n",
            "Control Systems Engineering Description :  norman s nise emphasizing practical application control systems engineering new fourth edition shows analyze design realworld feedback control systems readers learn create control systems support todays advanced technology apply latest computer methods analysis design control systems a methodology clearly defined steps presented type design problem continuous design examples give realistic view stage control systems design process a complete tutorial using matlab version 5 designing control systems prepares readers use important software tool \n",
            "\n"
          ]
        },
        {
          "output_type": "execute_result",
          "data": {
            "text/plain": [
              "['Biology for Engineers',\n",
              " 'Evolution of Life Histories: Theory and Analysis',\n",
              " 'Computational Intelligence: An Introduction',\n",
              " 'Biochemistry & Molecular Biology of Plants',\n",
              " 'Control Systems Engineering']"
            ]
          },
          "metadata": {},
          "execution_count": 122
        }
      ]
    },
    {
      "cell_type": "code",
      "metadata": {
        "colab": {
          "base_uri": "https://localhost:8080/"
        },
        "id": "2EJsqDo1cfX8",
        "outputId": "75c47d5d-a8d5-476b-d536-f830d750ad51"
      },
      "source": [
        "recommend('Understanding Analysis')"
      ],
      "execution_count": 123,
      "outputs": [
        {
          "output_type": "stream",
          "name": "stdout",
          "text": [
            "finding reccs for:  Understanding Analysis Description :  stephen abbott this book outlines elementary onesemester course exposes students process rigor rewards inherent taking axiomatic approach study functions real variable the aim course real analysis challenge improve mathematical intuition rather verify the philosophy book focus attention questions give analysis inherent fascination\n",
            "Analysis With An Introduction To Proof Description :  steven r lay carefully focused reading writing proofs introduction analysis functions single real variable helps readers transition computationally oriented abstract mathematics it features clear expositions examples helpful practice problems many drawings illustrate key ideas hintsanswers selected problems logic proof sets functions the real numbers sequences limits continuity differentiation integration infinite series sequences series functions for anyone interested real analysis advanced calculus \n",
            "\n",
            "Real Analysis and Foundations Description :  steven g krantz students preparing courses real analysis often encounter either exacting theoretical treatments books without enough rigor stimulate indepth understanding subject further complicating field changed much past 150 years prompting authors address lackluster overly complex dichotomy existing among available texts the enormously popular first edition real analysis foundations gave students appropriate combination authority rigor readability made topic accessible retaining strict discourse necessary advance understanding the second edition maintains feature integrating new concepts built fourier analysis ideas wavelets indicate application theory signal processing the author also introduces relevance material surpasses purely theoretical treatment emphasizing applications real analysis concrete engineering problems higher dimensions expanded updated text continues build upon foundations real analysis present novel applications ordinary partial differential equations elliptic boundary value problems disc multivariable analysis these qualities along figures streamlined proofs revamped exercises make even lively vital text popular first edition \n",
            "\n",
            "Lectures on the Hyperreals: An Introduction to Nonstandard Analysis Description :  robert goldblatt there good reasons believe nonstandard analysis ver sion analysis future kurt godel this book compilation development lecture notes written course nonstandard analysis i taught several times students taking course typically received previous introductions standard real analysis abstract algebra studied formal logic most notes used several times class revised light experience the earlier chapters could used basis course upper undergraduate level work whole including later applications may suited beginning graduate course this prefacedescribes motivationsand objectives writingthe book for part remarks addressed potential instructor mathematical understanding develops mysterious interplay intuitive insight symbolic manipulation nonstandard analysis requires enhanced sensitivity particular symbolic form used ex press intuitions subject poses unique challenging pedagogical issues the fundamental ofthese turn trans fer principle working tool mathematical practice i found vi preface unproductive try give proof principle introducing formal tarskian semantics firstorder languages working proofofloss theorem \n",
            "\n",
            "Introduction to Analysis of the Infinite: Book I Description :  leonhard euler from preface author i divided work two books first i confined matters concerning pure analysis in second book i explained thing must known geometry since analysis ordinarily developed way application geometry shown in first book since analysis concerned variable quantities functions variables i given full treatment functions i also treated transformation functions functions sum infinite series in addition i developed functions infinite series \n",
            "\n",
            "Appraisal, Market Analysis and Public Policy in Real Estate: Essays in Honor of James A. Graaskamp Description :  james r delisle this book organized four functional areas reflect multidisciplinary approach real estate studies influenced james a graaskamp the first section focuses theoretical philosophical issues the second section explores real estate appraisal feasibility special use analysis the third section reviews market analysis trade area delineation critical spatial analysis real estate the final section considers important public policy issues relate real estate \n",
            "\n"
          ]
        },
        {
          "output_type": "execute_result",
          "data": {
            "text/plain": [
              "['Analysis With An Introduction To Proof',\n",
              " 'Real Analysis and Foundations',\n",
              " 'Lectures on the Hyperreals: An Introduction to Nonstandard Analysis',\n",
              " 'Introduction to Analysis of the Infinite: Book I',\n",
              " 'Appraisal, Market Analysis and Public Policy in Real Estate: Essays in Honor of James A. Graaskamp']"
            ]
          },
          "metadata": {},
          "execution_count": 123
        }
      ]
    },
    {
      "cell_type": "code",
      "metadata": {
        "colab": {
          "base_uri": "https://localhost:8080/"
        },
        "id": "CZ-oHXb_cQzz",
        "outputId": "d822bb64-1395-4e9f-ec71-51ef8fdaa16b"
      },
      "source": [
        "recommend('Selecting a College Major: Exploration and Decision Making')"
      ],
      "execution_count": 124,
      "outputs": [
        {
          "output_type": "stream",
          "name": "stdout",
          "text": [
            "finding reccs for:  Selecting a College Major: Exploration and Decision Making Description :  virginia n gordon this innovative text simplifies process choosing major sometimes overwhelming array majors related career fields it assist undecided student selecting major also majorchanger exploring alternative options a stepbystep process leads students personal academic assessment well occupational information searches through thoughtprovoking activities explore academic career personal interests goals students investigate academic majors many perspectives including search majors general majors campus majors based academic occupational interests students directly personally involved activities involve exploration reflection choice extensive major exploration three distinct approaches help students narrow list realistic alternatives incorporation academic career interests abilities values selfassessment gives students information base choice major formulation graduation plan students use academic transcripts summarize learned develop plan future\n",
            "Majors Exploration: A Search and Find Guide for College and Career Direction Description :  mary jane bradbury this resource combines background information variety majors array application tools give students relevant exploration process \n",
            "\n",
            "Academic Vocabulary in Use Description :  michael  mccarthy the perfect study aid anyone using english academic work academic vocabulary use perfect study aid anyone using english academic work ideal students discipline engineers social scientists business students lawyers covers key vocabulary come across academic textbooks articles lectures seminars allowing function confidently englishspeaking academic environment the book designed students good intermediate level well preparing ielts university entrance examinations \n",
            "\n",
            "Academic Encounters: Life in Society Student's Book: Reading, Study Skills, and Writing Description :  kristine brown the academic encounters series uses sustained content approach teach skills necessary taking academic courses english there two books content area academic encounters life society engages students authentic academic readings photos graphs charts stimulating topics field sociology topics include peer pressure influence media balancing home work students develop important skills reading critically examining graphic material highlighting note taking preparing quiz by completing writing assignments different lengths students build academic writing skills respond readings incorporate learned the topics correspond academic listening encounters life society the books may used independently together \n",
            "\n",
            "Effective Academic Writing 1: The Paragraph Description :  alice savage effective academic writing presents writing modes rhetorical devices students need succeed academic setting \n",
            "\n",
            "Career Development and Counseling: Putting Theory and Research to Work Description :  steven d brown this musthave researcher vocational psychology career counseling anyone wishes understand empirical underpinnings practice career counseling mark pope edd college education university missouri st louis past president american counseling association todays career development professional must choose wide array theories practices order provide services diverse range clients career development counseling putting theory research work focuses scientifically based career theories practices including derived research disciplines driven latest empirical practical evidence text offers indepth farreaching comprehensive career development counseling resource available career development counseling includes coverage major theories career development choice adjustment informative research occupational aspirations job search success job satisfaction work performance career development people color womens career development assessment interests needs values ability important constructs occupational classification sources occupational information counseling schoolaged youth diverse populations choicemaking choice implementation work adjustment retirement special needs applications including atrisk intellectually talented workbound youth people disabilities individuals dealing job loss reentry career transitions edited two leading figures career development featuring contributions many wellregarded specialists field career development counseling putting theory research work one book every career counselor vocational psychologist serious student career development must \n",
            "\n"
          ]
        },
        {
          "output_type": "execute_result",
          "data": {
            "text/plain": [
              "['Majors Exploration: A Search and Find Guide for College and Career Direction',\n",
              " 'Academic Vocabulary in Use',\n",
              " \"Academic Encounters: Life in Society Student's Book: Reading, Study Skills, and Writing\",\n",
              " 'Effective Academic Writing 1: The Paragraph',\n",
              " 'Career Development and Counseling: Putting Theory and Research to Work']"
            ]
          },
          "metadata": {},
          "execution_count": 124
        }
      ]
    }
  ]
}